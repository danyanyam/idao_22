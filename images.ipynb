{
 "cells": [
  {
   "cell_type": "code",
   "execution_count": 1,
   "metadata": {},
   "outputs": [
    {
     "data": {
      "application/vnd.jupyter.widget-view+json": {
       "model_id": "8bdb69d2ff594e979b8f1f79660cdbc1",
       "version_major": 2,
       "version_minor": 0
      },
      "text/plain": []
     },
     "metadata": {},
     "output_type": "display_data"
    },
    {
     "name": "stderr",
     "output_type": "stream",
     "text": [
      "/Users/tomatoparetogmail.com/Desktop/idao_22/env/lib/python3.8/site-packages/pymatgen/core/__init__.py:51: UserWarning: Error loading .pmgrc.yaml: 'NoneType' object is not iterable. You may need to reconfigure your yaml file.\n",
      "  warnings.warn(f\"Error loading .pmgrc.yaml: {ex}. You may need to reconfigure your yaml file.\")\n"
     ]
    }
   ],
   "source": [
    "import nglview\n",
    "import pandas as pd\n",
    "from utils import read_structures, RootPath"
   ]
  },
  {
   "cell_type": "code",
   "execution_count": 2,
   "metadata": {},
   "outputs": [
    {
     "name": "stderr",
     "output_type": "stream",
     "text": [
      "2966it [00:01, 1842.36it/s]\n",
      "2966it [00:19, 155.15it/s]\n"
     ]
    }
   ],
   "source": [
    "structs = read_structures(RootPath('data/train/defects/pymatgen'))\n",
    "structs_whole = read_structures(RootPath('data/train/no_defects/pymatgen'))\n",
    "\n",
    "no_defects = pd.DataFrame([{'id': key, 'structure': value} for key, value in structs_whole.items()]).set_index('id')\n",
    "defects = pd.DataFrame([{'id': key, 'defect': value} for key, value in structs.items()]).set_index('id')"
   ]
  },
  {
   "cell_type": "code",
   "execution_count": 3,
   "metadata": {},
   "outputs": [],
   "source": [
    "data = defects.join(no_defects).join(pd.read_csv(RootPath('data/train/defects/targets.csv'), index_col=0))\n",
    "\n",
    "showd = lambda id_: nglview.show_pymatgen(data.loc[id_, 'defect'])\n",
    "show = lambda id_: nglview.show_pymatgen(data.loc[id_, 'structure'])"
   ]
  },
  {
   "cell_type": "code",
   "execution_count": 21,
   "metadata": {},
   "outputs": [
    {
     "data": {
      "text/html": [
       "<div>\n",
       "<style scoped>\n",
       "    .dataframe tbody tr th:only-of-type {\n",
       "        vertical-align: middle;\n",
       "    }\n",
       "\n",
       "    .dataframe tbody tr th {\n",
       "        vertical-align: top;\n",
       "    }\n",
       "\n",
       "    .dataframe thead th {\n",
       "        text-align: right;\n",
       "    }\n",
       "</style>\n",
       "<table border=\"1\" class=\"dataframe\">\n",
       "  <thead>\n",
       "    <tr style=\"text-align: right;\">\n",
       "      <th></th>\n",
       "      <th>defect</th>\n",
       "      <th>structure</th>\n",
       "      <th>band_gap</th>\n",
       "    </tr>\n",
       "    <tr>\n",
       "      <th>id</th>\n",
       "      <th></th>\n",
       "      <th></th>\n",
       "      <th></th>\n",
       "    </tr>\n",
       "  </thead>\n",
       "  <tbody>\n",
       "    <tr>\n",
       "      <th>6141e5c2baaf234b3529045c</th>\n",
       "      <td>[[15.95157859  7.36771851  3.719751  ] W, [-1....</td>\n",
       "      <td>[[1.27612629e-07 1.84192955e+00 3.71975100e+00...</td>\n",
       "      <td>1.0009</td>\n",
       "    </tr>\n",
       "    <tr>\n",
       "      <th>6141cf19baaf234b3529018e</th>\n",
       "      <td>[[ 7.97578938 10.13061288  3.719751  ] W, [ 3....</td>\n",
       "      <td>[[1.27612629e-07 1.84192955e+00 3.71975100e+00...</td>\n",
       "      <td>1.0009</td>\n",
       "    </tr>\n",
       "    <tr>\n",
       "      <th>6141cf1ebaaf234b3529019a</th>\n",
       "      <td>[[17.54673648  4.604824    3.719751  ] W, [-4....</td>\n",
       "      <td>[[1.27612629e-07 1.84192955e+00 3.71975100e+00...</td>\n",
       "      <td>1.0011</td>\n",
       "    </tr>\n",
       "    <tr>\n",
       "      <th>6141cf8bbaaf234b352901ee</th>\n",
       "      <td>[[1.59515798 4.604824   3.719751  ] W, [14.356...</td>\n",
       "      <td>[[1.27612629e-07 1.84192955e+00 3.71975100e+00...</td>\n",
       "      <td>1.0015</td>\n",
       "    </tr>\n",
       "    <tr>\n",
       "      <th>61427945baaf234b352906ee</th>\n",
       "      <td>[[-6.38063127 18.41929621  3.719751  ] W, [11....</td>\n",
       "      <td>[[1.27612629e-07 1.84192955e+00 3.71975100e+00...</td>\n",
       "      <td>1.0015</td>\n",
       "    </tr>\n",
       "    <tr>\n",
       "      <th>...</th>\n",
       "      <td>...</td>\n",
       "      <td>...</td>\n",
       "      <td>...</td>\n",
       "    </tr>\n",
       "    <tr>\n",
       "      <th>6141f7a49cbada84a8676ba3</th>\n",
       "      <td>[[11.16610482  0.92096489  2.15486663] Se, [ 6...</td>\n",
       "      <td>[[1.27612629e-07 1.84192955e+00 3.71975100e+00...</td>\n",
       "      <td>1.8103</td>\n",
       "    </tr>\n",
       "    <tr>\n",
       "      <th>6141d0c59cbada84a86768a9</th>\n",
       "      <td>[[-6.38063149 14.73543703  5.28463537] Se, [ 9...</td>\n",
       "      <td>[[1.27612629e-07 1.84192955e+00 3.71975100e+00...</td>\n",
       "      <td>1.8103</td>\n",
       "    </tr>\n",
       "    <tr>\n",
       "      <th>61420e2b9cbada84a8676c5b</th>\n",
       "      <td>[[-7.97578938 17.49833154  2.15486663] Se, [9....</td>\n",
       "      <td>[[1.27612629e-07 1.84192955e+00 3.71975100e+00...</td>\n",
       "      <td>1.8104</td>\n",
       "    </tr>\n",
       "    <tr>\n",
       "      <th>6141d0189cbada84a8676873</th>\n",
       "      <td>[[-4.78547368 17.49833154  5.28463537] Se, [11...</td>\n",
       "      <td>[[1.27612629e-07 1.84192955e+00 3.71975100e+00...</td>\n",
       "      <td>1.8104</td>\n",
       "    </tr>\n",
       "    <tr>\n",
       "      <th>6141cf2eb842c2e72e2f2d62</th>\n",
       "      <td>[[ 9.57094697 20.26122598  2.15486663] Se, [7....</td>\n",
       "      <td>[[1.27612629e-07 1.84192955e+00 3.71975100e+00...</td>\n",
       "      <td>1.8106</td>\n",
       "    </tr>\n",
       "  </tbody>\n",
       "</table>\n",
       "<p>1455 rows × 3 columns</p>\n",
       "</div>"
      ],
      "text/plain": [
       "                                                                     defect  \\\n",
       "id                                                                            \n",
       "6141e5c2baaf234b3529045c  [[15.95157859  7.36771851  3.719751  ] W, [-1....   \n",
       "6141cf19baaf234b3529018e  [[ 7.97578938 10.13061288  3.719751  ] W, [ 3....   \n",
       "6141cf1ebaaf234b3529019a  [[17.54673648  4.604824    3.719751  ] W, [-4....   \n",
       "6141cf8bbaaf234b352901ee  [[1.59515798 4.604824   3.719751  ] W, [14.356...   \n",
       "61427945baaf234b352906ee  [[-6.38063127 18.41929621  3.719751  ] W, [11....   \n",
       "...                                                                     ...   \n",
       "6141f7a49cbada84a8676ba3  [[11.16610482  0.92096489  2.15486663] Se, [ 6...   \n",
       "6141d0c59cbada84a86768a9  [[-6.38063149 14.73543703  5.28463537] Se, [ 9...   \n",
       "61420e2b9cbada84a8676c5b  [[-7.97578938 17.49833154  2.15486663] Se, [9....   \n",
       "6141d0189cbada84a8676873  [[-4.78547368 17.49833154  5.28463537] Se, [11...   \n",
       "6141cf2eb842c2e72e2f2d62  [[ 9.57094697 20.26122598  2.15486663] Se, [7....   \n",
       "\n",
       "                                                                  structure  \\\n",
       "id                                                                            \n",
       "6141e5c2baaf234b3529045c  [[1.27612629e-07 1.84192955e+00 3.71975100e+00...   \n",
       "6141cf19baaf234b3529018e  [[1.27612629e-07 1.84192955e+00 3.71975100e+00...   \n",
       "6141cf1ebaaf234b3529019a  [[1.27612629e-07 1.84192955e+00 3.71975100e+00...   \n",
       "6141cf8bbaaf234b352901ee  [[1.27612629e-07 1.84192955e+00 3.71975100e+00...   \n",
       "61427945baaf234b352906ee  [[1.27612629e-07 1.84192955e+00 3.71975100e+00...   \n",
       "...                                                                     ...   \n",
       "6141f7a49cbada84a8676ba3  [[1.27612629e-07 1.84192955e+00 3.71975100e+00...   \n",
       "6141d0c59cbada84a86768a9  [[1.27612629e-07 1.84192955e+00 3.71975100e+00...   \n",
       "61420e2b9cbada84a8676c5b  [[1.27612629e-07 1.84192955e+00 3.71975100e+00...   \n",
       "6141d0189cbada84a8676873  [[1.27612629e-07 1.84192955e+00 3.71975100e+00...   \n",
       "6141cf2eb842c2e72e2f2d62  [[1.27612629e-07 1.84192955e+00 3.71975100e+00...   \n",
       "\n",
       "                          band_gap  \n",
       "id                                  \n",
       "6141e5c2baaf234b3529045c    1.0009  \n",
       "6141cf19baaf234b3529018e    1.0009  \n",
       "6141cf1ebaaf234b3529019a    1.0011  \n",
       "6141cf8bbaaf234b352901ee    1.0015  \n",
       "61427945baaf234b352906ee    1.0015  \n",
       "...                            ...  \n",
       "6141f7a49cbada84a8676ba3    1.8103  \n",
       "6141d0c59cbada84a86768a9    1.8103  \n",
       "61420e2b9cbada84a8676c5b    1.8104  \n",
       "6141d0189cbada84a8676873    1.8104  \n",
       "6141cf2eb842c2e72e2f2d62    1.8106  \n",
       "\n",
       "[1455 rows x 3 columns]"
      ]
     },
     "execution_count": 21,
     "metadata": {},
     "output_type": "execute_result"
    }
   ],
   "source": [
    "data[data['band_gap'] > 1].sort_values('band_gap')"
   ]
  },
  {
   "cell_type": "code",
   "execution_count": null,
   "metadata": {},
   "outputs": [],
   "source": [
    "show('6141e5c2baaf234b3529045c')"
   ]
  },
  {
   "cell_type": "code",
   "execution_count": null,
   "metadata": {},
   "outputs": [],
   "source": []
  }
 ],
 "metadata": {
  "interpreter": {
   "hash": "be80063239ea365ac25836913490410c8123be207f3714d9c44e0ec712cffb2c"
  },
  "kernelspec": {
   "display_name": "Python 3.8.10 ('env': venv)",
   "language": "python",
   "name": "python3"
  },
  "language_info": {
   "codemirror_mode": {
    "name": "ipython",
    "version": 3
   },
   "file_extension": ".py",
   "mimetype": "text/x-python",
   "name": "python",
   "nbconvert_exporter": "python",
   "pygments_lexer": "ipython3",
   "version": "3.8.10"
  },
  "orig_nbformat": 4
 },
 "nbformat": 4,
 "nbformat_minor": 2
}
