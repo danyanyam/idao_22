{
 "cells": [
  {
   "cell_type": "markdown",
   "metadata": {},
   "source": [
    "**Purpose** of this notebook to launch defects extraction from structures and save result to the provided paths"
   ]
  },
  {
   "cell_type": "code",
   "execution_count": 4,
   "metadata": {},
   "outputs": [],
   "source": [
    "import sys\n",
    "sys.path.append('..')\n",
    "\n",
    "from utils import RootPath"
   ]
  },
  {
   "cell_type": "markdown",
   "metadata": {},
   "source": [
    "In what follows we are going to extract defects from structures. \n",
    "Suppose we have a structures like this:\n",
    "\n",
    "<img src=\"images/high_gap.png\" alt=\"Drawing\" style=\"width: 500px;\"/>\n",
    "<img src=\"images/low_gap_example.png\" alt=\"Drawing\" style=\"width: 469px;\"/>\n",
    "\n",
    "and we would like to extract defect from the structures. In order to do it, we generate \n",
    "the universal structure of formula $\\text{Mo}_{64}\\text{S}_{128}$, which looks like following:\n",
    "<img src=\"images/ideal.png\" alt=\"Drawing\" style=\"width: 500px;\"/>\n",
    "\n",
    "and then we calculate difference in atoms, so that following structures are obtained:\n",
    "\n",
    "<img src=\"images/high_hap_def.png\" alt=\"Drawing\" style=\"width: 450px;\"/>\n",
    "<img src=\"images/low_gap_example_def.png\" alt=\"Drawing\" style=\"width: 500px;\"/>\n",
    "\n",
    "Last two pictures correspond to the defects of the first two. Note that \n",
    "if there is a hole in crystals, then defect is an atom which is supposed to\n",
    "be in vacant place"
   ]
  },
  {
   "cell_type": "code",
   "execution_count": 9,
   "metadata": {},
   "outputs": [],
   "source": [
    "# choosing paths\n",
    "extract_to = RootPath('defects_extracted')\n",
    "extract_from = RootPath('data/eval/no_defects/pymatgen')\n",
    "jobs = 8"
   ]
  },
  {
   "cell_type": "markdown",
   "metadata": {},
   "source": [
    "launching script, which runs for an hour on 8-core processor"
   ]
  },
  {
   "cell_type": "code",
   "execution_count": 8,
   "metadata": {},
   "outputs": [
    {
     "name": "stderr",
     "output_type": "stream",
     "text": [
      "10it [00:00, 153.40it/s]\n",
      "100%|██████████| 11/11 [00:19<00:00,  1.80s/it]\n"
     ]
    }
   ],
   "source": [
    "%run atoms_to_defects.py --from {extract_from} --to {extract_to} --jobs {jobs}"
   ]
  }
 ],
 "metadata": {
  "interpreter": {
   "hash": "be80063239ea365ac25836913490410c8123be207f3714d9c44e0ec712cffb2c"
  },
  "kernelspec": {
   "display_name": "Python 3.8.10 ('env': venv)",
   "language": "python",
   "name": "python3"
  },
  "language_info": {
   "codemirror_mode": {
    "name": "ipython",
    "version": 3
   },
   "file_extension": ".py",
   "mimetype": "text/x-python",
   "name": "python",
   "nbconvert_exporter": "python",
   "pygments_lexer": "ipython3",
   "version": "3.8.10"
  },
  "orig_nbformat": 4
 },
 "nbformat": 4,
 "nbformat_minor": 2
}
