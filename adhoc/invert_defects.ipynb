{
 "cells": [
  {
   "cell_type": "code",
   "execution_count": 1,
   "metadata": {},
   "outputs": [
    {
     "data": {
      "application/vnd.jupyter.widget-view+json": {
       "model_id": "291015491ac246ac975bd33b3ce200dd",
       "version_major": 2,
       "version_minor": 0
      },
      "text/plain": []
     },
     "metadata": {},
     "output_type": "display_data"
    },
    {
     "name": "stderr",
     "output_type": "stream",
     "text": [
      "/Users/tomatoparetogmail.com/Desktop/Github/idao_22/env/lib/python3.8/site-packages/pymatgen/core/__init__.py:49: UserWarning: Error loading .pmgrc.yaml: [Errno 2] No such file or directory: '/Users/tomatoparetogmail.com/.pmgrc.yaml'. You may need to reconfigure your yaml file.\n",
      "  warnings.warn(f\"Error loading .pmgrc.yaml: {ex}. You may need to reconfigure your yaml file.\")\n"
     ]
    }
   ],
   "source": [
    "import nglview\n",
    "import numpy as np\n",
    "from tqdm import tqdm\n",
    "from pymatgen.core import Structure\n",
    "from pymatgen.core import Lattice\n",
    "from utils import structures_to_df\n",
    "\n",
    "from pathlib import Path\n",
    "\n",
    "import multiprocessing as mp\n",
    "\n",
    "tqdm.pandas()\n",
    "\n",
    "\n",
    "show = lambda x: nglview.show_pymatgen(x)"
   ]
  },
  {
   "cell_type": "markdown",
   "metadata": {},
   "source": [
    "### Создание идеального материала"
   ]
  },
  {
   "cell_type": "code",
   "execution_count": 2,
   "metadata": {},
   "outputs": [
    {
     "name": "stderr",
     "output_type": "stream",
     "text": [
      "2966it [00:19, 151.76it/s]\n"
     ]
    }
   ],
   "source": [
    "df_public = structures_to_df()"
   ]
  },
  {
   "cell_type": "code",
   "execution_count": 3,
   "metadata": {},
   "outputs": [],
   "source": [
    "coords = {\n",
    "    'high': {\n",
    "        'a': np.linspace(0.08333333, 0.95833333, 8, endpoint=True),\n",
    "        'b': np.linspace(0.04166667, 0.91666667, 8, endpoint=True),\n",
    "        'c': 0.355174,\n",
    "        'element': ['S'],\n",
    "        'position': []\n",
    "    },\n",
    "    'mid': {\n",
    "        'a': np.linspace(0.04166667, 0.91666667, 8, endpoint=True),\n",
    "        'b': np.linspace(0.08333333, 0.95833333, 8, endpoint=True),\n",
    "        'c': 0.25,\n",
    "        'element': ['Mo'],\n",
    "        'position': []\n",
    "    },\n",
    "    'low': {\n",
    "        'b': np.linspace(0.04166667, 0.91666667, 8, endpoint=True),\n",
    "        'a': np.linspace(0.08333333, 0.95833333, 8, endpoint=True),\n",
    "        'c': 0.144826,\n",
    "        'element': ['S'],\n",
    "        'position': []\n",
    "    }\n",
    "}\n",
    "\n",
    "for position in ('high', 'mid', 'low'):\n",
    "    for a in coords[position]['a']:\n",
    "        for b in coords[position]['b']:\n",
    "            coords[position]['position'].append([a, b, coords[position]['c']])\n",
    "\n",
    "lat = Lattice.from_parameters(25.5225256, 25.5225256, 14.879004, 90, 90, 120)\n",
    "elements = coords['low']['element'] * 64 + coords['mid']['element'] * 64 + coords['high']['element'] * 64\n",
    "positions = coords['low']['position'] + coords['mid']['position'] + coords['high']['position']\n",
    "\n",
    "ideal = Structure(lat, elements,\n",
    "                  positions,\n",
    "                  coords_are_cartesian=False)\n",
    "\n",
    "ideal_set = set(ideal)\n"
   ]
  },
  {
   "cell_type": "markdown",
   "metadata": {},
   "source": [
    "### Отличие структур от идеальной"
   ]
  },
  {
   "cell_type": "code",
   "execution_count": 6,
   "metadata": {},
   "outputs": [],
   "source": [
    "from functools import partial\n",
    "\n",
    "def diff_ideal(s, ideal_set):\n",
    "\n",
    "    ideal_defected_atoms = tuple(ideal_set - set(s))  # координаты молекул с проблемой\n",
    "    defects = list(set(s) - ideal_set)\n",
    "\n",
    "    ideal_defected_coords = np.array([np.around(i.frac_coords, 5) for i in ideal_defected_atoms])\n",
    "    defects_coords = np.array([np.around(i.frac_coords, 5) for i in defects])\n",
    "\n",
    "    for n, i in enumerate(ideal_defected_coords):\n",
    "        if not all(np.isin(i, defects_coords, True)):\n",
    "            defects.append(ideal_defected_atoms[n])\n",
    "\n",
    "    return Structure.from_sites(defects)\n",
    "\n",
    "\n",
    "\n",
    "structures = df_public['structure'].to_list()\n",
    "ids = df_public['_id'].to_list()\n",
    "\n",
    "r = [diff_ideal(i, ideal_set) for i in s]\n",
    "\n",
    "path = Path('eda_export/')\n",
    "\n",
    "for name, item in zip(df_public.iloc[:16, :]._id, r):\n",
    "    with open((path / name).with_suffix('.json'), 'w') as f:\n",
    "        f.writelines(item.to_json())\n"
   ]
  }
 ],
 "metadata": {
  "interpreter": {
   "hash": "b01ade15427e96df9e0d7f722d507b3569a7b4d366b2b12a853eaf9f271436bd"
  },
  "kernelspec": {
   "display_name": "Python 3 (ipykernel)",
   "language": "python",
   "name": "python3"
  },
  "language_info": {
   "codemirror_mode": {
    "name": "ipython",
    "version": 3
   },
   "file_extension": ".py",
   "mimetype": "text/x-python",
   "name": "python",
   "nbconvert_exporter": "python",
   "pygments_lexer": "ipython3",
   "version": "3.8.10"
  }
 },
 "nbformat": 4,
 "nbformat_minor": 2
}
