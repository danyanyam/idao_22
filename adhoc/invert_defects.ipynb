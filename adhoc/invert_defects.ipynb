{
 "cells": [
  {
   "cell_type": "code",
   "execution_count": 1,
   "metadata": {},
   "outputs": [
    {
     "data": {
      "application/vnd.jupyter.widget-view+json": {
       "model_id": "3d47d9561a894d8fb3c0c9687b626cae",
       "version_major": 2,
       "version_minor": 0
      },
      "text/plain": []
     },
     "metadata": {},
     "output_type": "display_data"
    },
    {
     "name": "stderr",
     "output_type": "stream",
     "text": [
      "/Users/tomatoparetogmail.com/Desktop/Github/idao_22/env/lib/python3.8/site-packages/pymatgen/core/__init__.py:49: UserWarning: Error loading .pmgrc.yaml: [Errno 2] No such file or directory: '/Users/tomatoparetogmail.com/.pmgrc.yaml'. You may need to reconfigure your yaml file.\n",
      "  warnings.warn(f\"Error loading .pmgrc.yaml: {ex}. You may need to reconfigure your yaml file.\")\n",
      "2967it [00:19, 155.01it/s]\n",
      "2966it [00:18, 162.41it/s]\n"
     ]
    }
   ],
   "source": [
    "import json\n",
    "import nglview\n",
    "import numpy as np\n",
    "import pandas as pd\n",
    "from tqdm import tqdm\n",
    "from pathlib import Path\n",
    "import matplotlib.pyplot as plt\n",
    "from pymatgen.core import Structure\n",
    "\n",
    "from pymatgen.core import Lattice\n",
    "\n",
    "\n",
    "tqdm.pandas()\n",
    "\n",
    "\n",
    "plt.rcParams[\"figure.dpi\"] = 70\n",
    "plt.rcParams[\"figure.figsize\"] = (10, 5)\n",
    "\n",
    "\n",
    "def read_json_structures(root: Path) -> pd.DataFrame:\n",
    "    return pd.DataFrame([\n",
    "        {'_id': path.name.strip('.json'), 'structure': Structure.from_dict(json.load(open(path)))}\n",
    "        for path in tqdm(root.glob('*.json'))\n",
    "    ])\n",
    "\n",
    "\n",
    "root_public_path = Path('../data/dichalcogenides_public')\n",
    "root_private_path = Path('../data/dichalcogenides_private')\n",
    "\n",
    "df_private = read_json_structures(root_private_path / 'structures')\n",
    "df_public = read_json_structures(\n",
    "    root_public_path / 'structures'\n",
    ").merge(pd.read_csv(root_public_path / 'targets.csv'))\n",
    "\n",
    "# понадобится дальше\n",
    "df_public['formula'] = df_public['structure'].apply(lambda x: x.formula)\n",
    "df_private['formula'] = df_private['structure'].apply(lambda x: x.formula)\n",
    "\n",
    "show = lambda x: nglview.show_pymatgen(x)"
   ]
  },
  {
   "cell_type": "markdown",
   "metadata": {},
   "source": [
    "### Создание идеального материала"
   ]
  },
  {
   "cell_type": "code",
   "execution_count": 2,
   "metadata": {},
   "outputs": [],
   "source": [
    "coords = {\n",
    "    'high': {\n",
    "        'a': np.linspace(0.08333333, 0.95833333, 8, endpoint=True),\n",
    "        'b': np.linspace(0.04166667, 0.91666667, 8, endpoint=True),\n",
    "        'c': 0.355174,\n",
    "        'element': ['S'],\n",
    "        'position': []\n",
    "    },\n",
    "    'mid': {\n",
    "        'a': np.linspace(0.04166667, 0.91666667, 8, endpoint=True),\n",
    "        'b': np.linspace(0.08333333, 0.95833333, 8, endpoint=True),\n",
    "        'c': 0.25,\n",
    "        'element': ['Mo'],\n",
    "        'position': []\n",
    "    },\n",
    "    'low': {\n",
    "        'b': np.linspace(0.04166667, 0.91666667, 8, endpoint=True),\n",
    "        'a': np.linspace(0.08333333, 0.95833333, 8, endpoint=True),\n",
    "        'c': 0.144826,\n",
    "        'element': ['S'],\n",
    "        'position': []\n",
    "    }\n",
    "}\n",
    "\n",
    "for position in ('high', 'mid', 'low'):\n",
    "    for a in coords[position]['a']:\n",
    "        for b in coords[position]['b']:\n",
    "            coords[position]['position'].append([a, b, coords[position]['c']])\n",
    "\n",
    "lat = Lattice.from_parameters(25.5225256, 25.5225256, 14.879004, 90, 90, 120)\n"
   ]
  },
  {
   "cell_type": "code",
   "execution_count": 7,
   "metadata": {},
   "outputs": [],
   "source": [
    "elements = coords['low']['element'] * 64 + coords['mid']['element'] * 64 + coords['high']['element'] * 64\n",
    "positions = coords['low']['position'] + coords['mid']['position'] + coords['high']['position']\n",
    "\n",
    "ideal = Structure(lat, elements,\n",
    "                  positions,\n",
    "                  coords_are_cartesian=False)\n",
    "\n",
    "ideal_set = set(ideal)\n"
   ]
  },
  {
   "cell_type": "markdown",
   "metadata": {},
   "source": [
    "### Отличие структур от идеальной"
   ]
  },
  {
   "cell_type": "code",
   "execution_count": 11,
   "metadata": {},
   "outputs": [
    {
     "name": "stderr",
     "output_type": "stream",
     "text": [
      "100%|██████████| 6/6 [00:16<00:00,  2.77s/it]\n"
     ]
    }
   ],
   "source": [
    "def diff_ideal(df):\n",
    "    \n",
    "\n",
    "    ideal_defected_atoms = tuple(ideal_set - set(df['structure']))  # координаты молекул с проблемой\n",
    "    defects = list(set(df['structure']) - ideal_set)\n",
    "\n",
    "    ideal_defected_coords = np.array([np.around(i.frac_coords, 5) for i in ideal_defected_atoms])\n",
    "    defects_coords = np.array([np.around(i.frac_coords, 5) for i in defects])\n",
    "\n",
    "    for n, i in enumerate(ideal_defected_coords):\n",
    "        if not all(np.isin(i, defects_coords, True)):\n",
    "            defects.append(ideal_defected_atoms[n])\n",
    "            \n",
    "    df['diff'] = Structure.from_sites(defects)\n",
    "    return df\n",
    "\n",
    "\n",
    "result = df_public.iloc[:6, :].progress_apply(diff_ideal, axis=1)"
   ]
  },
  {
   "cell_type": "code",
   "execution_count": 12,
   "metadata": {},
   "outputs": [
    {
     "data": {
      "text/html": [
       "<div>\n",
       "<style scoped>\n",
       "    .dataframe tbody tr th:only-of-type {\n",
       "        vertical-align: middle;\n",
       "    }\n",
       "\n",
       "    .dataframe tbody tr th {\n",
       "        vertical-align: top;\n",
       "    }\n",
       "\n",
       "    .dataframe thead th {\n",
       "        text-align: right;\n",
       "    }\n",
       "</style>\n",
       "<table border=\"1\" class=\"dataframe\">\n",
       "  <thead>\n",
       "    <tr style=\"text-align: right;\">\n",
       "      <th></th>\n",
       "      <th>_id</th>\n",
       "      <th>structure</th>\n",
       "      <th>band_gap</th>\n",
       "      <th>formula</th>\n",
       "      <th>diff</th>\n",
       "    </tr>\n",
       "  </thead>\n",
       "  <tbody>\n",
       "    <tr>\n",
       "      <th>0</th>\n",
       "      <td>6141eb094e27a1844a5f03dc</td>\n",
       "      <td>[[1.27612629e-07 1.84192955e+00 3.71975100e+00...</td>\n",
       "      <td>1.1388</td>\n",
       "      <td>Mo63 W1 Se1 S126</td>\n",
       "      <td>[[ 1.59515781 11.97254266  2.15486663] Se, [-7...</td>\n",
       "    </tr>\n",
       "    <tr>\n",
       "      <th>1</th>\n",
       "      <td>6141d6544e27a1844a5f01ea</td>\n",
       "      <td>[[1.27612629e-07 1.84192955e+00 3.71975100e+00...</td>\n",
       "      <td>1.1381</td>\n",
       "      <td>Mo63 W1 Se1 S126</td>\n",
       "      <td>[[11.16610482 17.49833154  5.28463537] Se, [19...</td>\n",
       "    </tr>\n",
       "    <tr>\n",
       "      <th>2</th>\n",
       "      <td>61421dc931cf3ef3d4a9f318</td>\n",
       "      <td>[[1.27612629e-07 1.84192955e+00 3.71975100e+00...</td>\n",
       "      <td>0.3966</td>\n",
       "      <td>Mo63 Se1 S126</td>\n",
       "      <td>[[20.73705192  6.44675377  5.28463537] Se, [ 6...</td>\n",
       "    </tr>\n",
       "    <tr>\n",
       "      <th>3</th>\n",
       "      <td>6141d0dabaaf234b35290260</td>\n",
       "      <td>[[1.27612629e-07 1.84192955e+00 3.71975100e+00...</td>\n",
       "      <td>1.0837</td>\n",
       "      <td>Mo63 W1 S126</td>\n",
       "      <td>[[7.97578938 4.604824   3.719751  ] W, [20.737...</td>\n",
       "    </tr>\n",
       "    <tr>\n",
       "      <th>4</th>\n",
       "      <td>6143483831cf3ef3d4a9f722</td>\n",
       "      <td>[[1.27612629e-07 1.84192955e+00 3.71975100e+00...</td>\n",
       "      <td>0.3566</td>\n",
       "      <td>Mo63 Se1 S126</td>\n",
       "      <td>[[11.16610482  0.92096489  2.15486663] Se, [9....</td>\n",
       "    </tr>\n",
       "    <tr>\n",
       "      <th>5</th>\n",
       "      <td>6142db3c4e27a1844a5f0954</td>\n",
       "      <td>[[1.27612629e-07 1.84192955e+00 3.71975100e+00...</td>\n",
       "      <td>1.1474</td>\n",
       "      <td>Mo63 W1 Se1 S126</td>\n",
       "      <td>[[ 4.78547342 17.49833154  5.28463537] Se, [17...</td>\n",
       "    </tr>\n",
       "  </tbody>\n",
       "</table>\n",
       "</div>"
      ],
      "text/plain": [
       "                        _id  \\\n",
       "0  6141eb094e27a1844a5f03dc   \n",
       "1  6141d6544e27a1844a5f01ea   \n",
       "2  61421dc931cf3ef3d4a9f318   \n",
       "3  6141d0dabaaf234b35290260   \n",
       "4  6143483831cf3ef3d4a9f722   \n",
       "5  6142db3c4e27a1844a5f0954   \n",
       "\n",
       "                                           structure  band_gap  \\\n",
       "0  [[1.27612629e-07 1.84192955e+00 3.71975100e+00...    1.1388   \n",
       "1  [[1.27612629e-07 1.84192955e+00 3.71975100e+00...    1.1381   \n",
       "2  [[1.27612629e-07 1.84192955e+00 3.71975100e+00...    0.3966   \n",
       "3  [[1.27612629e-07 1.84192955e+00 3.71975100e+00...    1.0837   \n",
       "4  [[1.27612629e-07 1.84192955e+00 3.71975100e+00...    0.3566   \n",
       "5  [[1.27612629e-07 1.84192955e+00 3.71975100e+00...    1.1474   \n",
       "\n",
       "            formula                                               diff  \n",
       "0  Mo63 W1 Se1 S126  [[ 1.59515781 11.97254266  2.15486663] Se, [-7...  \n",
       "1  Mo63 W1 Se1 S126  [[11.16610482 17.49833154  5.28463537] Se, [19...  \n",
       "2     Mo63 Se1 S126  [[20.73705192  6.44675377  5.28463537] Se, [ 6...  \n",
       "3      Mo63 W1 S126  [[7.97578938 4.604824   3.719751  ] W, [20.737...  \n",
       "4     Mo63 Se1 S126  [[11.16610482  0.92096489  2.15486663] Se, [9....  \n",
       "5  Mo63 W1 Se1 S126  [[ 4.78547342 17.49833154  5.28463537] Se, [17...  "
      ]
     },
     "execution_count": 12,
     "metadata": {},
     "output_type": "execute_result"
    }
   ],
   "source": [
    "result"
   ]
  },
  {
   "cell_type": "code",
   "execution_count": 29,
   "metadata": {},
   "outputs": [],
   "source": [
    "(_, example), (_, diff) = result.sample(1)[['structure', 'diff']].iteritems()"
   ]
  },
  {
   "cell_type": "code",
   "execution_count": 30,
   "metadata": {},
   "outputs": [
    {
     "data": {
      "application/vnd.jupyter.widget-view+json": {
       "model_id": "9de6f56ceca440978e59b39d3d39bed0",
       "version_major": 2,
       "version_minor": 0
      },
      "text/plain": [
       "NGLWidget()"
      ]
     },
     "metadata": {},
     "output_type": "display_data"
    }
   ],
   "source": [
    "show(example.iloc[0])"
   ]
  },
  {
   "cell_type": "code",
   "execution_count": 32,
   "metadata": {},
   "outputs": [
    {
     "data": {
      "application/vnd.jupyter.widget-view+json": {
       "model_id": "aa499446c9b74a6baf729095f2e0f0e1",
       "version_major": 2,
       "version_minor": 0
      },
      "text/plain": [
       "NGLWidget()"
      ]
     },
     "metadata": {},
     "output_type": "display_data"
    }
   ],
   "source": [
    "show(diff.iloc[0])"
   ]
  },
  {
   "cell_type": "code",
   "execution_count": null,
   "metadata": {},
   "outputs": [],
   "source": []
  }
 ],
 "metadata": {
  "interpreter": {
   "hash": "b01ade15427e96df9e0d7f722d507b3569a7b4d366b2b12a853eaf9f271436bd"
  },
  "kernelspec": {
   "display_name": "Python 3.8.10 ('env': venv)",
   "language": "python",
   "name": "python3"
  },
  "language_info": {
   "codemirror_mode": {
    "name": "ipython",
    "version": 3
   },
   "file_extension": ".py",
   "mimetype": "text/x-python",
   "name": "python",
   "nbconvert_exporter": "python",
   "pygments_lexer": "ipython3",
   "version": "3.8.10"
  },
  "orig_nbformat": 4
 },
 "nbformat": 4,
 "nbformat_minor": 2
}
