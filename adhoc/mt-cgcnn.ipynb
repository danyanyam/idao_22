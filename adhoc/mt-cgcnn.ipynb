{
 "cells": [
  {
   "cell_type": "markdown",
   "metadata": {},
   "source": [
    "A customized dataset stored in a folder root_dir will have the following files:\n",
    "\n",
    "    1. id_prop.csv: a CSV file with multiple columns. The first column recodes a unique ID for each crystal. From second column onwards the value of respective target property is stored. For eg., if you wish to perform multi-task learning for Formation energy and Band gap, then the second column should have the target value for Formation energy of the crystal and thrid column should have the target value for Band gap.\n",
    "\n",
    "    2. atom_init.json: a JSON file that stores the initialization vector for each element. An example of atom_init.json is data/sample/atom_init.json, which should be good for most applications.\n",
    "\n",
    "    3. ID.cif: a CIF file that recodes the crystal structure, where ID is the unique ID for the crystal.\n",
    "\n"
   ]
  },
  {
   "cell_type": "code",
   "execution_count": 12,
   "metadata": {},
   "outputs": [],
   "source": [
    "import csv\n",
    "import json\n",
    "import numpy as np\n",
    "from tqdm import tqdm\n",
    "from pathlib import Path\n",
    "from pymatgen.core import Structure\n",
    "from pymatgen.io.cif import CifWriter\n",
    "from typing import List, Dict\n",
    "\n",
    "\n",
    "def read_json_structures(root: Path):\n",
    "    return [\n",
    "        {'_id': path.name.strip('.json'), 'structure': Structure.from_dict(json.load(open(path)))}\n",
    "        for path in tqdm(root.glob('*.json'))\n",
    "    ]\n",
    "\n",
    "\n",
    "def read_csv(fname: Path, fieldnames=['_id', 'band_gap']):\n",
    "    with open(fname, 'r') as f:\n",
    "        return sorted(list(csv.DictReader(f, fieldnames))[1:], key=lambda x: x['_id'])\n",
    "\n",
    "\n",
    "def write_csv(data, fieldnames, destination: Path):\n",
    "    with open(destination, 'w') as f:\n",
    "        csv.DictWriter(f, fieldnames=fieldnames, delimiter=',').writerows(data)\n",
    "\n",
    "\n",
    "def write_cifs(crystals: List[Dict[str, str]], destination_root: Path):\n",
    "    atom_init = {}\n",
    "\n",
    "    # converting public data to cifs and vectorizing moleculas\n",
    "    for d in tqdm(crystals):\n",
    "        CifWriter(d['structure']).write_file(destination_root / Path(d['_id']).with_suffix('.cif'))\n",
    "        vec = np.zeros(92, dtype=int)\n",
    "        vec[list(set(d['structure'].atomic_numbers))] = 1\n",
    "        atom_init[d['_id']] = vec.tolist()\n",
    "\n",
    "    with open(destination_root / 'atom_init.json', 'w') as f:\n",
    "        f.write(json.dumps(atom_init))\n"
   ]
  },
  {
   "cell_type": "code",
   "execution_count": 13,
   "metadata": {},
   "outputs": [
    {
     "name": "stderr",
     "output_type": "stream",
     "text": [
      "2967it [00:17, 174.51it/s]\n",
      "2966it [00:18, 160.74it/s]\n"
     ]
    }
   ],
   "source": [
    "root_public_path = Path('../data/dichalcogenides_public')\n",
    "root_private_path = Path('../data/dichalcogenides_private')\n",
    "target_path = root_public_path / 'targets.csv'\n",
    "\n",
    "private = read_json_structures(root_private_path / 'structures')\n",
    "public = read_json_structures(root_public_path / 'structures')\n",
    "target = read_csv(target_path)\n"
   ]
  },
  {
   "cell_type": "code",
   "execution_count": 21,
   "metadata": {},
   "outputs": [],
   "source": [
    "num_to_id = {num: data['_id'] for num, data in enumerate(public + private)}\n",
    "id_to_num = {value: key for key, value in num_to_id.items()}\n",
    "\n",
    "for data in private:\n",
    "    data['_id'] = id_to_num[data['_id']]\n",
    "\n",
    "for data in public:\n",
    "    data['_id'] = id_to_num[data['_id']]\n"
   ]
  },
  {
   "cell_type": "code",
   "execution_count": 15,
   "metadata": {},
   "outputs": [
    {
     "name": "stdout",
     "output_type": "stream",
     "text": [
      "mkdir: -: File exists\n",
      "mkdir: p: File exists\n",
      "mkdir: -: File exists\n",
      "mkdir: p: File exists\n"
     ]
    },
    {
     "name": "stderr",
     "output_type": "stream",
     "text": [
      "100%|██████████| 2966/2966 [00:26<00:00, 112.56it/s]\n",
      "100%|██████████| 2967/2967 [00:25<00:00, 117.40it/s]\n"
     ]
    }
   ],
   "source": [
    "cif_destination_public = Path('../models/mt-cgcnn/cifs/public')\n",
    "cif_destination_private = Path('../models/mt-cgcnn/cifs/private')\n",
    "\n",
    "!mkdir -p $cif_destination_public\n",
    "!mkdir -p $cif_destination_private\n",
    "\n",
    "# writing targets without header row\n",
    "write_csv(target, ['_id', 'band_gap'], cif_destination_public / 'id_prop.csv')\n",
    "# converting pymatgen to cifs for both public and private materials\n",
    "write_cifs(public, cif_destination_public)\n",
    "write_cifs(private, cif_destination_private)"
   ]
  },
  {
   "cell_type": "code",
   "execution_count": null,
   "metadata": {},
   "outputs": [],
   "source": []
  }
 ],
 "metadata": {
  "interpreter": {
   "hash": "aee8b7b246df8f9039afb4144a1f6fd8d2ca17a180786b69acc140d282b71a49"
  },
  "kernelspec": {
   "display_name": "Python 3.8.10 64-bit",
   "language": "python",
   "name": "python3"
  },
  "language_info": {
   "codemirror_mode": {
    "name": "ipython",
    "version": 3
   },
   "file_extension": ".py",
   "mimetype": "text/x-python",
   "name": "python",
   "nbconvert_exporter": "python",
   "pygments_lexer": "ipython3",
   "version": "3.8.5"
  },
  "orig_nbformat": 4
 },
 "nbformat": 4,
 "nbformat_minor": 2
}
