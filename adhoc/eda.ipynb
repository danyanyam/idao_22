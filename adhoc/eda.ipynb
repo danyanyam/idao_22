{
 "cells": [
  {
   "cell_type": "markdown",
   "metadata": {},
   "source": [
    "**Цель ноутбука:** понять как выглядят данные и получить ответы на следующие вопросы:\n",
    "\n",
    "    1. Как распределен таргет?\n",
    "    2. Как распределена энергия внутри молекул?\n",
    "    3. Как отличаются train/test/private?\n",
    "    4. Как перевести данные в другой формат?"
   ]
  },
  {
   "cell_type": "code",
   "execution_count": 1,
   "metadata": {},
   "outputs": [],
   "source": [
    "import json\n",
    "import numpy as np\n",
    "import pandas as pd\n",
    "from tqdm import tqdm\n",
    "from pathlib import Path\n",
    "import matplotlib.pyplot as plt\n",
    "from pymatgen.core import Structure"
   ]
  },
  {
   "cell_type": "code",
   "execution_count": 2,
   "metadata": {},
   "outputs": [],
   "source": [
    "def read_json_structures(root: Path) -> pd.DataFrame:\n",
    "    return pd.DataFrame([\n",
    "        {'_id': path.name.strip('.json'), 'structure': Structure.from_dict(json.load(open(path)))}\n",
    "        for path in tqdm(root.glob('*.json'))\n",
    "    ])\n"
   ]
  },
  {
   "cell_type": "code",
   "execution_count": 35,
   "metadata": {},
   "outputs": [
    {
     "name": "stderr",
     "output_type": "stream",
     "text": [
      "2966it [00:20, 147.82it/s]\n"
     ]
    }
   ],
   "source": [
    "root_public_path = Path('../data/dichalcogenides_public')\n",
    "df_publ = read_json_structures(\n",
    "    root_public_path / 'structures'\n",
    ").merge(pd.read_csv(root_public_path / 'targets.csv'))\n"
   ]
  },
  {
   "cell_type": "markdown",
   "metadata": {},
   "source": [
    "### Как перевести данные в другой формат"
   ]
  },
  {
   "cell_type": "markdown",
   "metadata": {},
   "source": [
    "#### pymatgen -> jarvis"
   ]
  },
  {
   "cell_type": "code",
   "execution_count": 26,
   "metadata": {},
   "outputs": [],
   "source": [
    "from pymatgen.io.jarvis import JarvisAtomsAdaptor\n",
    "\n",
    "struct = df_publ.sample(1).iloc[0]\n",
    "jarvis_obj = JarvisAtomsAdaptor().get_atoms(struct['structure'])"
   ]
  },
  {
   "cell_type": "markdown",
   "metadata": {},
   "source": [
    "#### jarvis to file"
   ]
  },
  {
   "cell_type": "code",
   "execution_count": null,
   "metadata": {},
   "outputs": [],
   "source": [
    "!mkdir 'eda_export'\n",
    "jarvis_obj.write_cif('eda_export' / Path(struct['_id']).with_suffix('.cif'))\n",
    "jarvis_obj.write_xyz('eda_export' / Path(struct['_id']).with_suffix('.xyz'))\n",
    "jarvis_obj.write_poscar('eda_export' / Path(struct['_id']).with_suffix('.poscar'))"
   ]
  }
 ],
 "metadata": {
  "interpreter": {
   "hash": "6c7aef0f5e6d3be91d3487373484c701ed8895a318f17eb5013976c51507967f"
  },
  "kernelspec": {
   "display_name": "Python 3.8.10 ('env': venv)",
   "language": "python",
   "name": "python3"
  },
  "language_info": {
   "codemirror_mode": {
    "name": "ipython",
    "version": 3
   },
   "file_extension": ".py",
   "mimetype": "text/x-python",
   "name": "python",
   "nbconvert_exporter": "python",
   "pygments_lexer": "ipython3",
   "version": "3.8.10"
  },
  "orig_nbformat": 4
 },
 "nbformat": 4,
 "nbformat_minor": 2
}
