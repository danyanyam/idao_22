{
 "cells": [
  {
   "cell_type": "code",
   "execution_count": 68,
   "metadata": {},
   "outputs": [],
   "source": [
    "preds = []\n",
    "for path in glob('../predictions/fine-tuned/*.json'):\n",
    "    pred_col = path.split('/')[-1].split('_pred.json')[0]\n",
    "    prediction = pd.read_json(path)\n",
    "    prediction = prediction.set_index('id').rename({'pred': pred_col}, axis=1)\n",
    "    preds.append(prediction)"
   ]
  },
  {
   "cell_type": "code",
   "execution_count": 86,
   "metadata": {},
   "outputs": [
    {
     "ename": "ModuleNotFoundError",
     "evalue": "No module named 'alignn'",
     "output_type": "error",
     "traceback": [
      "\u001b[0;31m---------------------------------------------------------------------------\u001b[0m",
      "\u001b[0;31mModuleNotFoundError\u001b[0m                       Traceback (most recent call last)",
      "Input \u001b[0;32mIn [86]\u001b[0m, in \u001b[0;36m<module>\u001b[0;34m\u001b[0m\n\u001b[0;32m----> 1\u001b[0m \u001b[38;5;28;01mfrom\u001b[39;00m \u001b[38;5;21;01mpretrained_new\u001b[39;00m \u001b[38;5;28;01mimport\u001b[39;00m get_multiple_predictions \u001b[38;5;28;01mas\u001b[39;00m predict\n",
      "File \u001b[0;32m~/Documents/idao_22/adhoc/pretrained_new.py:6\u001b[0m, in \u001b[0;36m<module>\u001b[0;34m\u001b[0m\n\u001b[1;32m      4\u001b[0m \u001b[38;5;28;01mimport\u001b[39;00m \u001b[38;5;21;01mzipfile\u001b[39;00m\n\u001b[1;32m      5\u001b[0m \u001b[38;5;28;01mfrom\u001b[39;00m \u001b[38;5;21;01mtqdm\u001b[39;00m \u001b[38;5;28;01mimport\u001b[39;00m tqdm\n\u001b[0;32m----> 6\u001b[0m \u001b[38;5;28;01mfrom\u001b[39;00m \u001b[38;5;21;01malignn\u001b[39;00m\u001b[38;5;21;01m.\u001b[39;00m\u001b[38;5;21;01mmodels\u001b[39;00m\u001b[38;5;21;01m.\u001b[39;00m\u001b[38;5;21;01malignn\u001b[39;00m \u001b[38;5;28;01mimport\u001b[39;00m ALIGNN, ALIGNNConfig\n\u001b[1;32m      7\u001b[0m \u001b[38;5;28;01mfrom\u001b[39;00m \u001b[38;5;21;01malignn\u001b[39;00m\u001b[38;5;21;01m.\u001b[39;00m\u001b[38;5;21;01mdata\u001b[39;00m \u001b[38;5;28;01mimport\u001b[39;00m get_torch_dataset\n\u001b[1;32m      8\u001b[0m \u001b[38;5;28;01mfrom\u001b[39;00m \u001b[38;5;21;01mtorch\u001b[39;00m\u001b[38;5;21;01m.\u001b[39;00m\u001b[38;5;21;01mutils\u001b[39;00m\u001b[38;5;21;01m.\u001b[39;00m\u001b[38;5;21;01mdata\u001b[39;00m \u001b[38;5;28;01mimport\u001b[39;00m DataLoader\n",
      "\u001b[0;31mModuleNotFoundError\u001b[0m: No module named 'alignn'"
     ]
    }
   ],
   "source": [
    "from pretrained_new import get_multiple_predictions as predict"
   ]
  },
  {
   "cell_type": "code",
   "execution_count": 69,
   "metadata": {},
   "outputs": [
    {
     "data": {
      "text/html": [
       "<div>\n",
       "<style scoped>\n",
       "    .dataframe tbody tr th:only-of-type {\n",
       "        vertical-align: middle;\n",
       "    }\n",
       "\n",
       "    .dataframe tbody tr th {\n",
       "        vertical-align: top;\n",
       "    }\n",
       "\n",
       "    .dataframe thead th {\n",
       "        text-align: right;\n",
       "    }\n",
       "</style>\n",
       "<table border=\"1\" class=\"dataframe\">\n",
       "  <thead>\n",
       "    <tr style=\"text-align: right;\">\n",
       "      <th></th>\n",
       "      <th>jv_optb88vdw_bandgap_alignn</th>\n",
       "      <th>qm9_gap_alignn</th>\n",
       "      <th>mp_gappbe_alignnn</th>\n",
       "      <th>jv_mbj_bandgap_alignn</th>\n",
       "    </tr>\n",
       "    <tr>\n",
       "      <th>id</th>\n",
       "      <th></th>\n",
       "      <th></th>\n",
       "      <th></th>\n",
       "      <th></th>\n",
       "    </tr>\n",
       "  </thead>\n",
       "  <tbody>\n",
       "    <tr>\n",
       "      <th>614205f93ac25c70a5c6ca6f</th>\n",
       "      <td>0.373643</td>\n",
       "      <td>0.339101</td>\n",
       "      <td>0.396656</td>\n",
       "      <td>0.343095</td>\n",
       "    </tr>\n",
       "    <tr>\n",
       "      <th>6141f58c9cbada84a8676b95</th>\n",
       "      <td>1.799487</td>\n",
       "      <td>1.920558</td>\n",
       "      <td>1.627579</td>\n",
       "      <td>1.758015</td>\n",
       "    </tr>\n",
       "    <tr>\n",
       "      <th>6141d3d2ee0a3fd43fb47b55</th>\n",
       "      <td>0.341124</td>\n",
       "      <td>0.389437</td>\n",
       "      <td>0.504942</td>\n",
       "      <td>0.334224</td>\n",
       "    </tr>\n",
       "    <tr>\n",
       "      <th>6142298d9cbada84a8676cb5</th>\n",
       "      <td>1.802205</td>\n",
       "      <td>2.044758</td>\n",
       "      <td>1.575814</td>\n",
       "      <td>1.695894</td>\n",
       "    </tr>\n",
       "    <tr>\n",
       "      <th>6141d43abaaf234b352902fc</th>\n",
       "      <td>1.119928</td>\n",
       "      <td>1.074443</td>\n",
       "      <td>1.102758</td>\n",
       "      <td>1.024117</td>\n",
       "    </tr>\n",
       "  </tbody>\n",
       "</table>\n",
       "</div>"
      ],
      "text/plain": [
       "                          jv_optb88vdw_bandgap_alignn  qm9_gap_alignn  \\\n",
       "id                                                                      \n",
       "614205f93ac25c70a5c6ca6f                     0.373643        0.339101   \n",
       "6141f58c9cbada84a8676b95                     1.799487        1.920558   \n",
       "6141d3d2ee0a3fd43fb47b55                     0.341124        0.389437   \n",
       "6142298d9cbada84a8676cb5                     1.802205        2.044758   \n",
       "6141d43abaaf234b352902fc                     1.119928        1.074443   \n",
       "\n",
       "                          mp_gappbe_alignnn  jv_mbj_bandgap_alignn  \n",
       "id                                                                  \n",
       "614205f93ac25c70a5c6ca6f           0.396656               0.343095  \n",
       "6141f58c9cbada84a8676b95           1.627579               1.758015  \n",
       "6141d3d2ee0a3fd43fb47b55           0.504942               0.334224  \n",
       "6142298d9cbada84a8676cb5           1.575814               1.695894  \n",
       "6141d43abaaf234b352902fc           1.102758               1.024117  "
      ]
     },
     "execution_count": 69,
     "metadata": {},
     "output_type": "execute_result"
    }
   ],
   "source": [
    "preds = pd.concat(preds, axis=1)\n",
    "preds.head()"
   ]
  },
  {
   "cell_type": "code",
   "execution_count": 58,
   "metadata": {},
   "outputs": [],
   "source": [
    "preds['predictions'] = preds[['qm9_gap_alignn', 'mp_gappbe_alignnn']].sum(axis=1) / 2"
   ]
  },
  {
   "cell_type": "code",
   "execution_count": 60,
   "metadata": {},
   "outputs": [],
   "source": [
    "preds['predictions'] = preds[['jv_optb88vdw_bandgap_alignn', 'jv_mbj_bandgap_alignn']].sum(axis=1) / 2"
   ]
  },
  {
   "cell_type": "code",
   "execution_count": 81,
   "metadata": {},
   "outputs": [],
   "source": [
    "preds['predictions'] = preds['jv_optb88vdw_bandgap_alignn'] * 0.5 + preds['jv_mbj_bandgap_alignn'] * 0.3 + preds['qm9_gap_alignn'] * 0.1 + preds['mp_gappbe_alignnn'] * 0.1"
   ]
  },
  {
   "cell_type": "code",
   "execution_count": 70,
   "metadata": {},
   "outputs": [],
   "source": [
    "preds['predictions'] = preds.sum(axis=1) / 4"
   ]
  },
  {
   "cell_type": "code",
   "execution_count": 82,
   "metadata": {},
   "outputs": [],
   "source": [
    "preds['predictions'].to_csv('../answer.csv')"
   ]
  },
  {
   "cell_type": "code",
   "execution_count": null,
   "metadata": {},
   "outputs": [],
   "source": []
  }
 ],
 "metadata": {
  "kernelspec": {
   "display_name": "Python 3 (ipykernel)",
   "language": "python",
   "name": "python3"
  },
  "language_info": {
   "codemirror_mode": {
    "name": "ipython",
    "version": 3
   },
   "file_extension": ".py",
   "mimetype": "text/x-python",
   "name": "python",
   "nbconvert_exporter": "python",
   "pygments_lexer": "ipython3",
   "version": "3.9.6"
  }
 },
 "nbformat": 4,
 "nbformat_minor": 4
}
