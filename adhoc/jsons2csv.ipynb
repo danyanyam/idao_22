{
 "cells": [
  {
   "cell_type": "code",
  "execution_count": 1,
   "metadata": {
    "pycharm": {
     "name": "#%%\n"
    }
   },
   "outputs": [],
   "source": [
    "from glob import glob\n",
    "import pandas as pd"
   ]
  },
  {
   "cell_type": "code",
   "execution_count": 128,
   "metadata": {
    "pycharm": {
     "name": "#%%\n"
    }
   },
   "outputs": [],
   "source": [
    "preds = []\n",
    "for path in glob('../predictions/fine-fine-tuned/*.json'):\n",
    "    pred_col = path.split('/')[-1].split('_pred.json')[0]\n",
    "    prediction = pd.read_json(path)\n",
    "    prediction = prediction.set_index('id').rename({'pred': pred_col}, axis=1)\n",
    "    preds.append(prediction)"
   ]
  },
  {
   "cell_type": "code",
   "execution_count": 144,
   "metadata": {},
   "outputs": [],
   "source": [
    "preds['boosting'] = pd.read_csv('/Users/yk4r2/Downloads/boosting_answer.csv', index_col=0)"
   ]
  },
  {
   "cell_type": "code",
   "execution_count": 145,
   "metadata": {},
   "outputs": [
    {
     "data": {
      "text/html": [
       "<div>\n",
       "<style scoped>\n",
       "    .dataframe tbody tr th:only-of-type {\n",
       "        vertical-align: middle;\n",
       ,
       "\n",
       "    .dataframe tbody tr th {\n",
       "        vertical-align: top;\n",
       "    }\n",
       "\n",
       "    .dataframe thead th {\n",
       "        text-align: right;\n",
       "    }\n",
       "</style>\n",
       "<table border=\"1\" class=\"dataframe\">\n",
       "  <thead>\n",
       "    <tr style=\"text-align: right;\">\n",
       "      <th></th>\n",
       "      <th>jv_optb88vdw_bandgap_alignn</th>\n",
       "      <th>qm9_gap_alignn</th>\n",
       "      <th>mp_gappbe_alignnn</th>\n",
       "      <th>jv_mbj_bandgap_alignn</th>\n",
       "      <th>boosting</th>\n",
       "      <th>predictions</th>\n",
       "    </tr>\n",
       "    <tr>\n",
       "      <th>id</th>\n",
       "      <th></th>\n",
       "      <th></th>\n",
       "      <th></th>\n",
       "      <th></th>\n",
       "      <th></th>\n",
       "      <th></th>\n",
       "    </tr>\n",
       "  </thead>\n",
       "  <tbody>\n",
       "    <tr>\n",
       "      <th>614205f93ac25c70a5c6ca6f</th>\n",
       "      <td>0.379666</td>\n",
       "      <td>0.382445</td>\n",
       "      <td>0.384427</td>\n",
       "      <td>0.394005</td>\n",
       "      <td>0.342488</td>\n",
       "      <td>0.378533</td>\n",
       "    </tr>\n",
       "    <tr>\n",
       "      <th>6141f58c9cbada84a8676b95</th>\n",
       "      <td>1.812719</td>\n",
       "      <td>1.806581</td>\n",
       "      <td>1.805327</td>\n",
       "      <td>1.814703</td>\n",
       "      <td>1.806261</td>\n",
       "      <td>1.809410</td>\n",
       "    </tr>\n",
       "    <tr>\n",
       "      <th>6141d3d2ee0a3fd43fb47b55</th>\n",
       "      <td>0.361607</td>\n",
       "      <td>0.358903</td>\n",
       "      <td>0.355783</td>\n",
       "      <td>0.358463</td>\n",
       "      <td>0.351167</td>\n",
       "      <td>0.364523</td>\n",
       "    </tr>\n",
       "    <tr>\n",
       "      <th>6142298d9cbada84a8676cb5</th>\n",
       "      <td>1.812738</td>\n",
       "      <td>1.806763</td>\n",
       "      <td>1.805809</td>\n",
       "      <td>1.811138</td>\n",
       "      <td>1.807521</td>\n",
       "      <td>1.808906</td>\n",
       "    </tr>\n",
       "    <tr>\n",
       "      <th>6141d43abaaf234b352902fc</th>\n",
       "      <td>1.111589</td>\n",
       "      <td>1.097027</td>\n",
       "      <td>1.106476</td>\n",
       "      <td>1.102430</td>\n",
       "      <td>1.105751</td>\n",
       "      <td>1.105500</td>\n",
       "    </tr>\n",
       "    <tr>\n",
       "      <th>...</th>\n",
       "      <td>...</td>\n",
       "      <td>...</td>\n",
       "      <td>...</td>\n",
       "      <td>...</td>\n",
       "      <td>...</td>\n",
       "      <td>...</td>\n",
       "    </tr>\n",
       "    <tr>\n",
       "      <th>6142001731cf3ef3d4a9f1fe</th>\n",
       "      <td>0.434409</td>\n",
       "      <td>0.433888</td>\n",
       "      <td>0.424210</td>\n",
       "      <td>0.419436</td>\n",
       "      <td>0.409089</td>\n",
       "      <td>0.417804</td>\n",
       "    </tr>\n",
       "    <tr>\n",
       "      <th>6141d120baaf234b35290272</th>\n",
       "      <td>1.111500</td>\n",
       "      <td>1.107317</td>\n",
       "      <td>1.106583</td>\n",
       "      <td>1.106870</td>\n",
       "      <td>1.105062</td>\n",
       "      <td>1.108002</td>\n",
       "    </tr>\n",
       "    <tr>\n",
       "      <th>6141db7fee0a3fd43fb47c37</th>\n",
       "      <td>0.362958</td>\n",
       "      <td>0.360215</td>\n",
       "      <td>0.359682</td>\n",
       "      <td>0.358053</td>\n",
       "      <td>0.369935</td>\n",
       "      <td>0.361181</td>\n",
       "    </tr>\n",
       "    <tr>\n",
       "      <th>6141d093ee0a3fd43fb47aad</th>\n",
       "      <td>0.363864</td>\n",
       "      <td>0.363604</td>\n",
       "      <td>0.364344</td>\n",
       "      <td>0.356203</td>\n",
       "      <td>0.357417</td>\n",
       "      <td>0.363519</td>\n",
       "    </tr>\n",
       "    <tr>\n",
       "      <th>6141d075ee0a3fd43fb47aa3</th>\n",
       "      <td>0.427217</td>\n",
       "      <td>0.428695</td>\n",
       "      <td>0.429118</td>\n",
       "      <td>0.428850</td>\n",
       "      <td>0.368126</td>\n",
       "      <td>0.408725</td>\n",
       "    </tr>\n",
       "  </tbody>\n",
       "</table>\n",
       "<p>2967 rows × 6 columns</p>\n",
       "</div>"
      ],
      "text/plain": [
       "                          jv_optb88vdw_bandgap_alignn  qm9_gap_alignn  \\\n",
       "id                                                                      \n",
       "614205f93ac25c70a5c6ca6f                     0.379666        0.382445   \n",
       "6141f58c9cbada84a8676b95                     1.812719        1.806581   \n",
       "6141d3d2ee0a3fd43fb47b55                     0.361607        0.358903   \n",
       "6142298d9cbada84a8676cb5                     1.812738        1.806763   \n",
       "6141d43abaaf234b352902fc                     1.111589        1.097027   \n",
      "...                                               ...             ...   \n",
       "6142001731cf3ef3d4a9f1fe                     0.434409        0.433888   \n",
       "6141d120baaf234b35290272                     1.111500        1.107317   \n",
       "6141db7fee0a3fd43fb47c37                     0.362958        0.360215   \n",
       "6141d093ee0a3fd43fb47aad                     0.363864        0.363604   \n",
       "6141d075ee0a3fd43fb47aa3                     0.427217        0.428695   \n",
       "\n",
       "                          mp_gappbe_alignnn  jv_mbj_bandgap_alignn  boosting  \\\n",
       "id                                                                             \n",
       "614205f93ac25c70a5c6ca6f           0.384427               0.394005  0.342488   \n",
       "6141f58c9cbada84a8676b95           1.805327               1.814703  1.806261   \n",
       "6141d3d2ee0a3fd43fb47b55           0.355783               0.358463  0.351167   \n",
       "6142298d9cbada84a8676cb5           1.805809               1.811138  1.807521   \n",
       "6141d43abaaf234b352902fc           1.106476               1.102430  1.105751   \n",
       "...                                     ...                    ...       ...   \n",
       "6142001731cf3ef3d4a9f1fe           0.424210               0.419436  0.409089   \n",
       "6141d120baaf234b35290272           1.106583               1.106870  1.105062   \n",
       "6141db7fee0a3fd43fb47c37           0.359682               0.358053  0.369935   \n",
       "6141d093ee0a3fd43fb47aad           0.364344               0.356203  0.357417   \n",
       "6141d075ee0a3fd43fb47aa3           0.429118               0.428850  0.368126   \n",
       "\n",
       "                          predictions  \n",
       "id                                     \n",
       "614205f93ac25c70a5c6ca6f     0.378533  \n",
       "6141f58c9cbada84a8676b95     1.809410  \n",
       "6141d3d2ee0a3fd43fb47b55     0.364523  \n",
       "6142298d9cbada84a8676cb5     1.808906  \n",
       "6141d43abaaf234b352902fc     1.105500  \n",
       "...                               ...  \n",
       "6142001731cf3ef3d4a9f1fe     0.417804  \n",
       "6141d120baaf234b35290272     1.108002  \n",
       "6141db7fee0a3fd43fb47c37     0.361181  \n",
       "6141d093ee0a3fd43fb47aad     0.363519  \n",
       "6141d075ee0a3fd43fb47aa3     0.408725  \n",
       "\n",
       "[2967 rows x 6 columns]"
      ]
     },
     "execution_count": 145,
     "metadata": {},
     "output_type": "execute_result"
    }
   ],
   "source": [
    "preds"
   ]
  },
  {
   "cell_type": "code",
   "execution_count": 150,
   "metadata": {},
   "outputs": [],
   "source": [
    "alignn_cols = ['jv_optb88vdw_bandgap_alignn', 'qm9_gap_alignn', 'mp_gappbe_alignnn', 'jv_mbj_bandgap_alignn']\n",
    "preds['predictions'] = preds[alignn_cols].mean(axis=1)"
   ]
  },
  {
   "cell_type": "code",
   "execution_count": 151,
   "metadata": {},
   "outputs": [],
   "source": [
    "preds['predictions'] = preds['predictions'] * 0.9 + 0.1 * preds['boosting']"
   ]
  },
  {
   "cell_type": "code",
   "execution_count": 152,
   "metadata": {
    "pycharm": {
     "name": "#%%\n"
    }
   },
   "outputs": [],
   "source": [
    "preds['predictions'].to_csv('../answer.csv')"
   ]
  },
  {
   "cell_type": "code",
   "execution_count": 71,
   "outputs": [],
   "source": [
    "jv_mbj_bandgap_alignn_defects = pd.read_csv('~/Downloads/jv_mbj_bandgap_alignn_pred.csv', index_col=0)\n",
    "jv_optb88vdw_alignn_defects = pd.read_csv('~/Downloads/jv_optb88vdw_bandgap_alignn_pred.csv', index_col=0)\n",
    "mp_gappbe_alignn_defects = pd.read_csv('~/Downloads/mp_gappbe_alignnn_pred.csv', index_col=0)\n",
    "qm9_gap_alignn_defects = pd.read_csv('~/Downloads/qm9_gap_alignn_pred.csv', index_col=0)"
   ],
   "metadata": {
    "collapsed": false,
    "pycharm": {
     "name": "#%%\n"
    }
   }
  },
  {
   "cell_type": "code",
  "execution_count": 85,
   "outputs": [],
   "source": [
    "datasets = [jv_mbj_bandgap_alignn_defects, jv_optb88vdw_alignn_defects, mp_gappbe_alignn_defects, qm9_gap_alignn_defects]\n",
    "names = ['jv_mbj_bandgap_alignn', 'jv_optb88vdw_alignn', 'mp_gappbe_alignn', 'qm9_gap_alignn']\n",
    "for idx, (dataset, name) in enumerate(zip(datasets, names)):\n",
    "    datasets[idx] = dataset.set_index('id').rename({'pred': name}, axis=1)\n",
    "    datasets[idx] = datasets[idx].sort_index()\n",
    "dataset = pd.concat(datasets, axis=1)"
   ],
   "metadata": {
    "collapsed": false,
    "pycharm": {
     "name": "#%%\n"
    }
   }
  },
  {
   "cell_type": "code",
   "execution_count": 88,
   "outputs": [],
   "source": [
    "dataset['predictions'] = dataset.mean(axis=1)"
   ],
   "metadata": {
    "collapsed": false,
    "pycharm": {
     "name": "#%%\n"
    }
   }
  },
  {
   "cell_type": "code",
   "execution_count": 90,
   "outputs": [],
   "source": [
    "dataset.to_csv('../predictions/fine-tuned_defects/predictions.csv')"
   ],
   "metadata": {
    "collapsed": false,
    "pycharm": {
     "name": "#%%\n"
    }
   }
  },
  {
   "cell_type": "code",
   "execution_count": null,
   "outputs": [],
   "source": [],
   "metadata": {
    "collapsed": false,
    "pycharm": {
     "name": "#%%\n"
    }
   }
  }
 ],
 "metadata": {
  "kernelspec": {
   "display_name": "Python 3 (ipykernel)",
   "language": "python",
   "name": "python3"
  },
  "language_info": {
   "codemirror_mode": {
    "name": "ipython",
    "version": 3
   },
   "file_extension": ".py",
   "mimetype": "text/x-python",
   "name": "python",
   "nbconvert_exporter": "python",
   "pygments_lexer": "ipython3",
   "version": "3.9.6"
  }
 },
 "nbformat": 4,
 "nbformat_minor": 4
}
