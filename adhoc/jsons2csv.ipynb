{
 "cells": [
  {
   "cell_type": "code",
   "execution_count": 87,
   "metadata": {},
   "outputs": [],
   "source": [
    "preds = []\n",
    "for path in glob('../predictions/fine-fine-tuned/*.json'):\n",
    "    pred_col = path.split('/')[-1].split('_pred.json')[0]\n",
    "    prediction = pd.read_json(path)\n",
    "    prediction = prediction.set_index('id').rename({'pred': pred_col}, axis=1)\n",
    "    preds.append(prediction)"
   ]
  },
  {
   "cell_type": "code",
   "execution_count": 1,
   "metadata": {},
   "outputs": [
    {
     "name": "stdout",
     "output_type": "stream",
     "text": [
      "\u001b[1m\u001b[36meda_data\u001b[m\u001b[m        \u001b[1m\u001b[36meda_export\u001b[m\u001b[m      jsons2csv.ipynb mt-cgcnn.ipynb\n"
     ]
    }
   ],
   "source": [
    "!ls"
   ]
  },
  {
   "cell_type": "code",
   "execution_count": 88,
   "metadata": {},
   "outputs": [
    {
     "data": {
      "text/html": [
       "<div>\n",
       "<style scoped>\n",
       "    .dataframe tbody tr th:only-of-type {\n",
       "        vertical-align: middle;\n",
       "    }\n",
       "\n",
       "    .dataframe tbody tr th {\n",
       "        vertical-align: top;\n",
       "    }\n",
       "\n",
       "    .dataframe thead th {\n",
       "        text-align: right;\n",
       "    }\n",
       "</style>\n",
       "<table border=\"1\" class=\"dataframe\">\n",
       "  <thead>\n",
       "    <tr style=\"text-align: right;\">\n",
       "      <th></th>\n",
       "      <th>qm9_gap_alignn</th>\n",
       "    </tr>\n",
       "    <tr>\n",
       "      <th>id</th>\n",
       "      <th></th>\n",
       "    </tr>\n",
       "  </thead>\n",
       "  <tbody>\n",
       "    <tr>\n",
       "      <th>614205f93ac25c70a5c6ca6f</th>\n",
       "      <td>0.382445</td>\n",
       "    </tr>\n",
       "    <tr>\n",
       "      <th>6141f58c9cbada84a8676b95</th>\n",
       "      <td>1.806581</td>\n",
       "    </tr>\n",
       "    <tr>\n",
       "      <th>6141d3d2ee0a3fd43fb47b55</th>\n",
       "      <td>0.358903</td>\n",
       "    </tr>\n",
       "    <tr>\n",
       "      <th>6142298d9cbada84a8676cb5</th>\n",
       "      <td>1.806763</td>\n",
       "    </tr>\n",
       "    <tr>\n",
       "      <th>6141d43abaaf234b352902fc</th>\n",
       "      <td>1.097027</td>\n",
       "    </tr>\n",
       "  </tbody>\n",
       "</table>\n",
       "</div>"
      ],
      "text/plain": [
       "                          qm9_gap_alignn\n",
       "id                                      \n",
       "614205f93ac25c70a5c6ca6f        0.382445\n",
       "6141f58c9cbada84a8676b95        1.806581\n",
       "6141d3d2ee0a3fd43fb47b55        0.358903\n",
       "6142298d9cbada84a8676cb5        1.806763\n",
       "6141d43abaaf234b352902fc        1.097027"
      ]
     },
     "execution_count": 88,
     "metadata": {},
     "output_type": "execute_result"
    }
   ],
   "source": [
    "preds = pd.concat(preds, axis=1)\n",
    "preds.head()"
   ]
  },
  {
   "cell_type": "code",
   "execution_count": 58,
   "metadata": {},
   "outputs": [],
   "source": [
    "preds['predictions'] = preds[['qm9_gap_alignn', 'mp_gappbe_alignnn']].sum(axis=1) / 2"
   ]
  },
  {
   "cell_type": "code",
   "execution_count": 60,
   "metadata": {},
   "outputs": [],
   "source": [
    "preds['predictions'] = preds[['jv_optb88vdw_bandgap_alignn', 'jv_mbj_bandgap_alignn']].sum(axis=1) / 2"
   ]
  },
  {
   "cell_type": "code",
   "execution_count": 81,
   "metadata": {},
   "outputs": [],
   "source": [
    "preds['predictions'] = preds['jv_optb88vdw_bandgap_alignn'] * 0.5 + preds['jv_mbj_bandgap_alignn'] * 0.3 + preds['qm9_gap_alignn'] * 0.1 + preds['mp_gappbe_alignnn'] * 0.1"
   ]
  },
  {
   "cell_type": "code",
   "execution_count": 70,
   "metadata": {},
   "outputs": [],
   "source": [
    "preds['predictions'] = preds.sum(axis=1) / 4"
   ]
  },
  {
   "cell_type": "code",
   "execution_count": 89,
   "metadata": {},
   "outputs": [],
   "source": [
    "preds['predictions'] = preds['qm9_gap_alignn']"
   ]
  },
  {
   "cell_type": "code",
   "execution_count": 90,
   "metadata": {},
   "outputs": [],
   "source": [
    "preds['predictions'].to_csv('../answer.csv')"
   ]
  },
  {
   "cell_type": "code",
   "execution_count": null,
   "metadata": {},
   "outputs": [],
   "source": []
  }
 ],
 "metadata": {
  "kernelspec": {
   "display_name": "Python 3 (ipykernel)",
   "language": "python",
   "name": "python3"
  },
  "language_info": {
   "codemirror_mode": {
    "name": "ipython",
    "version": 3
   },
   "file_extension": ".py",
   "mimetype": "text/x-python",
   "name": "python",
   "nbconvert_exporter": "python",
   "pygments_lexer": "ipython3",
   "version": "3.8.5"
  }
 },
 "nbformat": 4,
 "nbformat_minor": 4
}
