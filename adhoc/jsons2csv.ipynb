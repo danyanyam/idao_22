{
 "cells": [
  {
   "cell_type": "code",
   "execution_count": 54,
   "metadata": {
    "pycharm": {
     "name": "#%%\n"
    }
   },
   "outputs": [],
   "source": [
    "from functools import reduce\n",
    "from glob import glob\n",
    "import pandas as pd"
   ]
  },
  {
   "cell_type": "code",
   "execution_count": 60,
   "metadata": {
    "pycharm": {
     "name": "#%%\n"
    }
   },
   "outputs": [],
   "source": [
    "preds_train = []\n",
    "for path in glob('/Users/yk4r2/Downloads/*alignn*train*.csv'):\n",
    "    pred_col = path.split('/')[-1].split('.csv')[0]\n",
    "    prediction = pd.read_csv(path, index_col=0)\n",
    "    prediction = prediction.set_index('id').rename({'pred': pred_col}, axis=1)\n",
    "    preds_train.append(prediction)"
   ]
  },
  {
   "cell_type": "code",
   "execution_count": 61,
   "outputs": [
    {
     "data": {
      "text/plain": "                          jv_mbj_bandgap_alignn_pred_train_no_defects  \\\nid                                                                      \n61420e2831cf3ef3d4a9f298                                     0.262799   \n6141f75c4e27a1844a5f0498                                     1.431303   \n6141f0a9ee0a3fd43fb47d83                                     1.435301   \n614222d04e27a1844a5f0642                                     1.433769   \n614204414e27a1844a5f0532                                     0.534306   \n...                                                               ...   \n6141d1859cbada84a86768d9                                     0.392585   \n6141d3dbbaaf234b352902ee                                     0.705369   \n6141d04c9cbada84a8676885                                     0.840223   \n6141d6869cbada84a86769a7                                     0.827007   \n6141cf229cbada84a86767db                                     0.725547   \n\n                          jv_optb88vdw_bandgap_alignn_pred_train_defects  \\\nid                                                                         \n61420e2831cf3ef3d4a9f298                                        1.144852   \n6141f75c4e27a1844a5f0498                                        0.401006   \n6141f0a9ee0a3fd43fb47d83                                        0.418579   \n614222d04e27a1844a5f0642                                        1.804911   \n614204414e27a1844a5f0532                                        0.366546   \n...                                                                  ...   \n6141d1859cbada84a86768d9                                        1.144919   \n6141d3dbbaaf234b352902ee                                        0.423243   \n6141d04c9cbada84a8676885                                        0.409755   \n6141d6869cbada84a86769a7                                        1.147691   \n6141cf229cbada84a86767db                                        0.421123   \n\n                          qm9_gap_alignn_pred_train_no_defects  \\\nid                                                               \n61420e2831cf3ef3d4a9f298                              0.483283   \n6141f75c4e27a1844a5f0498                              1.059446   \n6141f0a9ee0a3fd43fb47d83                              1.067361   \n614222d04e27a1844a5f0642                              1.065922   \n614204414e27a1844a5f0532                              0.540113   \n...                                                        ...   \n6141d1859cbada84a86768d9                              0.789785   \n6141d3dbbaaf234b352902ee                              0.790392   \n6141d04c9cbada84a8676885                              1.260561   \n6141d6869cbada84a86769a7                              1.243631   \n6141cf229cbada84a86767db                              0.508822   \n\n                          qm9_gap_alignn_pred_train_defects  \\\nid                                                            \n61420e2831cf3ef3d4a9f298                           1.143547   \n6141f75c4e27a1844a5f0498                           0.389836   \n6141f0a9ee0a3fd43fb47d83                           0.421241   \n614222d04e27a1844a5f0642                           1.793036   \n614204414e27a1844a5f0532                           0.368752   \n...                                                     ...   \n6141d1859cbada84a86768d9                           1.145146   \n6141d3dbbaaf234b352902ee                           0.409296   \n6141d04c9cbada84a8676885                           0.376781   \n6141d6869cbada84a86769a7                           1.146609   \n6141cf229cbada84a86767db                           0.431353   \n\n                          jv_optb88vdw_bandgap_alignn_pred_train_no_defects  \\\nid                                                                            \n61420e2831cf3ef3d4a9f298                                           0.763006   \n6141f75c4e27a1844a5f0498                                           0.857479   \n6141f0a9ee0a3fd43fb47d83                                           0.856193   \n614222d04e27a1844a5f0642                                           0.857489   \n614204414e27a1844a5f0532                                           0.189708   \n...                                                                     ...   \n6141d1859cbada84a86768d9                                           0.232779   \n6141d3dbbaaf234b352902ee                                           0.196675   \n6141d04c9cbada84a8676885                                           0.184139   \n6141d6869cbada84a86769a7                                           0.450370   \n6141cf229cbada84a86767db                                           0.224668   \n\n                          mp_gappbe_alignnn_pred_train_defects  \\\nid                                                               \n61420e2831cf3ef3d4a9f298                              1.144825   \n6141f75c4e27a1844a5f0498                              0.386710   \n6141f0a9ee0a3fd43fb47d83                              0.416398   \n614222d04e27a1844a5f0642                              1.798125   \n614204414e27a1844a5f0532                              0.346287   \n...                                                        ...   \n6141d1859cbada84a86768d9                              1.145584   \n6141d3dbbaaf234b352902ee                              0.405181   \n6141d04c9cbada84a8676885                              0.400605   \n6141d6869cbada84a86769a7                              1.146406   \n6141cf229cbada84a86767db                              0.413527   \n\n                          mp_gappbe_alignnn_pred_train_no_defects  \\\nid                                                                  \n61420e2831cf3ef3d4a9f298                                 0.924519   \n6141f75c4e27a1844a5f0498                                 1.464635   \n6141f0a9ee0a3fd43fb47d83                                 1.446025   \n614222d04e27a1844a5f0642                                 1.445164   \n614204414e27a1844a5f0532                                 0.520049   \n...                                                           ...   \n6141d1859cbada84a86768d9                                 0.397146   \n6141d3dbbaaf234b352902ee                                 0.543501   \n6141d04c9cbada84a8676885                                 0.598665   \n6141d6869cbada84a86769a7                                 0.771309   \n6141cf229cbada84a86767db                                 0.627932   \n\n                          jv_mbj_bandgap_alignn_pred_train_defects  \nid                                                                  \n61420e2831cf3ef3d4a9f298                                  1.142203  \n6141f75c4e27a1844a5f0498                                  0.382681  \n6141f0a9ee0a3fd43fb47d83                                  0.414601  \n614222d04e27a1844a5f0642                                  1.805579  \n614204414e27a1844a5f0532                                  0.354356  \n...                                                            ...  \n6141d1859cbada84a86768d9                                  1.143915  \n6141d3dbbaaf234b352902ee                                  0.412466  \n6141d04c9cbada84a8676885                                  0.382152  \n6141d6869cbada84a86769a7                                  1.145584  \n6141cf229cbada84a86767db                                  0.420923  \n\n[2966 rows x 8 columns]",
      "text/html": "<div>\n<style scoped>\n    .dataframe tbody tr th:only-of-type {\n        vertical-align: middle;\n    }\n\n    .dataframe tbody tr th {\n        vertical-align: top;\n    }\n\n    .dataframe thead th {\n        text-align: right;\n    }\n</style>\n<table border=\"1\" class=\"dataframe\">\n  <thead>\n    <tr style=\"text-align: right;\">\n      <th></th>\n      <th>jv_mbj_bandgap_alignn_pred_train_no_defects</th>\n      <th>jv_optb88vdw_bandgap_alignn_pred_train_defects</th>\n      <th>qm9_gap_alignn_pred_train_no_defects</th>\n      <th>qm9_gap_alignn_pred_train_defects</th>\n      <th>jv_optb88vdw_bandgap_alignn_pred_train_no_defects</th>\n      <th>mp_gappbe_alignnn_pred_train_defects</th>\n      <th>mp_gappbe_alignnn_pred_train_no_defects</th>\n      <th>jv_mbj_bandgap_alignn_pred_train_defects</th>\n    </tr>\n    <tr>\n      <th>id</th>\n      <th></th>\n      <th></th>\n      <th></th>\n      <th></th>\n      <th></th>\n      <th></th>\n      <th></th>\n      <th></th>\n    </tr>\n  </thead>\n  <tbody>\n    <tr>\n      <th>61420e2831cf3ef3d4a9f298</th>\n      <td>0.262799</td>\n      <td>1.144852</td>\n      <td>0.483283</td>\n      <td>1.143547</td>\n      <td>0.763006</td>\n      <td>1.144825</td>\n      <td>0.924519</td>\n      <td>1.142203</td>\n    </tr>\n    <tr>\n      <th>6141f75c4e27a1844a5f0498</th>\n      <td>1.431303</td>\n      <td>0.401006</td>\n      <td>1.059446</td>\n      <td>0.389836</td>\n      <td>0.857479</td>\n      <td>0.386710</td>\n      <td>1.464635</td>\n      <td>0.382681</td>\n    </tr>\n    <tr>\n      <th>6141f0a9ee0a3fd43fb47d83</th>\n      <td>1.435301</td>\n      <td>0.418579</td>\n      <td>1.067361</td>\n      <td>0.421241</td>\n      <td>0.856193</td>\n      <td>0.416398</td>\n      <td>1.446025</td>\n      <td>0.414601</td>\n    </tr>\n    <tr>\n      <th>614222d04e27a1844a5f0642</th>\n      <td>1.433769</td>\n      <td>1.804911</td>\n      <td>1.065922</td>\n      <td>1.793036</td>\n      <td>0.857489</td>\n      <td>1.798125</td>\n      <td>1.445164</td>\n      <td>1.805579</td>\n    </tr>\n    <tr>\n      <th>614204414e27a1844a5f0532</th>\n      <td>0.534306</td>\n      <td>0.366546</td>\n      <td>0.540113</td>\n      <td>0.368752</td>\n      <td>0.189708</td>\n      <td>0.346287</td>\n      <td>0.520049</td>\n      <td>0.354356</td>\n    </tr>\n    <tr>\n      <th>...</th>\n      <td>...</td>\n      <td>...</td>\n      <td>...</td>\n      <td>...</td>\n      <td>...</td>\n      <td>...</td>\n      <td>...</td>\n      <td>...</td>\n    </tr>\n    <tr>\n      <th>6141d1859cbada84a86768d9</th>\n      <td>0.392585</td>\n      <td>1.144919</td>\n      <td>0.789785</td>\n      <td>1.145146</td>\n      <td>0.232779</td>\n      <td>1.145584</td>\n      <td>0.397146</td>\n      <td>1.143915</td>\n    </tr>\n    <tr>\n      <th>6141d3dbbaaf234b352902ee</th>\n      <td>0.705369</td>\n      <td>0.423243</td>\n      <td>0.790392</td>\n      <td>0.409296</td>\n      <td>0.196675</td>\n      <td>0.405181</td>\n      <td>0.543501</td>\n      <td>0.412466</td>\n    </tr>\n    <tr>\n      <th>6141d04c9cbada84a8676885</th>\n      <td>0.840223</td>\n      <td>0.409755</td>\n      <td>1.260561</td>\n      <td>0.376781</td>\n      <td>0.184139</td>\n      <td>0.400605</td>\n      <td>0.598665</td>\n      <td>0.382152</td>\n    </tr>\n    <tr>\n      <th>6141d6869cbada84a86769a7</th>\n      <td>0.827007</td>\n      <td>1.147691</td>\n      <td>1.243631</td>\n      <td>1.146609</td>\n      <td>0.450370</td>\n      <td>1.146406</td>\n      <td>0.771309</td>\n      <td>1.145584</td>\n    </tr>\n    <tr>\n      <th>6141cf229cbada84a86767db</th>\n      <td>0.725547</td>\n      <td>0.421123</td>\n      <td>0.508822</td>\n      <td>0.431353</td>\n      <td>0.224668</td>\n      <td>0.413527</td>\n      <td>0.627932</td>\n      <td>0.420923</td>\n    </tr>\n  </tbody>\n</table>\n<p>2966 rows × 8 columns</p>\n</div>"
     },
     "execution_count": 61,
     "metadata": {},
     "output_type": "execute_result"
    }
   ],
   "source": [
    "preds_train = reduce(lambda a, x: a.merge(x, left_index=True, right_index=True), preds_train)\n",
    "preds_train"
   ],
   "metadata": {
    "collapsed": false,
    "pycharm": {
     "name": "#%%\n"
    }
   }
  },
  {
   "cell_type": "code",
   "execution_count": 56,
   "outputs": [],
   "source": [
    "preds_eval = []\n",
    "for path in glob('/Users/yk4r2/Downloads/*alignn*eval*.csv'):\n",
    "    pred_col = path.split('/')[-1].split('.csv')[0]\n",
    "    prediction = pd.read_csv(path, index_col=0)\n",
    "    prediction = prediction.set_index('id').rename({'pred': pred_col}, axis=1)\n",
    "    preds_eval.append(prediction)"
   ],
   "metadata": {
    "collapsed": false,
    "pycharm": {
     "name": "#%%\n"
    }
   }
  },
  {
   "cell_type": "code",
   "execution_count": 57,
   "outputs": [
    {
     "data": {
      "text/plain": "                          jv_mbj_bandgap_alignn_pred_eval_no_defects  \\\nid                                                                     \n6142ccec3ac25c70a5c6cc49                                    0.262799   \n614223383ac25c70a5c6cae5                                    1.431303   \n614216e64e27a1844a5f05e8                                    1.435301   \n614227adbaaf234b3529063e                                    1.433769   \n6142029e9cbada84a8676c05                                    0.534306   \n...                                                              ...   \n6141f85a3ac25c70a5c6ca29                                    0.705369   \n6141f6e031cf3ef3d4a9f192                                    0.840223   \n6141d31aee0a3fd43fb47b37                                    0.827007   \n6141e6123ac25c70a5c6c9af                                    0.725547   \n6141eb4e4e27a1844a5f03e0                                    0.482683   \n\n                          qm9_gap_alignn_pred_eval_defects  \\\nid                                                           \n6142ccec3ac25c70a5c6cc49                          0.444113   \n614223383ac25c70a5c6cae5                          0.442768   \n614216e64e27a1844a5f05e8                          1.790991   \n614227adbaaf234b3529063e                          0.373822   \n6142029e9cbada84a8676c05                          1.054793   \n...                                                    ...   \n6141f85a3ac25c70a5c6ca29                          1.094726   \n6141f6e031cf3ef3d4a9f192                          1.117547   \n6141d31aee0a3fd43fb47b37                          0.418321   \n6141e6123ac25c70a5c6c9af                          1.143756   \n6141eb4e4e27a1844a5f03e0                          1.099969   \n\n                          jv_optb88vdw_bandgap_alignn_pred_eval_no_defects  \\\nid                                                                           \n6142ccec3ac25c70a5c6cc49                                          0.763006   \n614223383ac25c70a5c6cae5                                          0.857479   \n614216e64e27a1844a5f05e8                                          0.856193   \n614227adbaaf234b3529063e                                          0.857489   \n6142029e9cbada84a8676c05                                          0.189708   \n...                                                                    ...   \n6141f85a3ac25c70a5c6ca29                                          0.196675   \n6141f6e031cf3ef3d4a9f192                                          0.184139   \n6141d31aee0a3fd43fb47b37                                          0.450370   \n6141e6123ac25c70a5c6c9af                                          0.224668   \n6141eb4e4e27a1844a5f03e0                                          0.219287   \n\n                          jv_mbj_bandgap_alignn_pred_eval_defects  \\\nid                                                                  \n6142ccec3ac25c70a5c6cc49                                 0.434816   \n614223383ac25c70a5c6cae5                                 0.418861   \n614216e64e27a1844a5f05e8                                 1.805609   \n614227adbaaf234b3529063e                                 0.353646   \n6142029e9cbada84a8676c05                                 1.043751   \n...                                                           ...   \n6141f85a3ac25c70a5c6ca29                                 1.099764   \n6141f6e031cf3ef3d4a9f192                                 1.122899   \n6141d31aee0a3fd43fb47b37                                 0.415550   \n6141e6123ac25c70a5c6c9af                                 1.142387   \n6141eb4e4e27a1844a5f03e0                                 1.107058   \n\n                          mp_gappbe_alignnn_pred_eval_no_defects  \\\nid                                                                 \n6142ccec3ac25c70a5c6cc49                                0.924519   \n614223383ac25c70a5c6cae5                                1.464635   \n614216e64e27a1844a5f05e8                                1.446025   \n614227adbaaf234b3529063e                                1.445164   \n6142029e9cbada84a8676c05                                0.520049   \n...                                                          ...   \n6141f85a3ac25c70a5c6ca29                                0.543501   \n6141f6e031cf3ef3d4a9f192                                0.598665   \n6141d31aee0a3fd43fb47b37                                0.771309   \n6141e6123ac25c70a5c6c9af                                0.627932   \n6141eb4e4e27a1844a5f03e0                                0.652021   \n\n                          qm9_gap_alignn_pred_eval_no_defects  \\\nid                                                              \n6142ccec3ac25c70a5c6cc49                             0.483283   \n614223383ac25c70a5c6cae5                             1.059446   \n614216e64e27a1844a5f05e8                             1.067361   \n614227adbaaf234b3529063e                             1.065922   \n6142029e9cbada84a8676c05                             0.540113   \n...                                                       ...   \n6141f85a3ac25c70a5c6ca29                             0.790392   \n6141f6e031cf3ef3d4a9f192                             1.260561   \n6141d31aee0a3fd43fb47b37                             1.243631   \n6141e6123ac25c70a5c6c9af                             0.508822   \n6141eb4e4e27a1844a5f03e0                             0.604356   \n\n                          jv_optb88vdw_bandgap_alignn_pred_eval_defects  \\\nid                                                                        \n6142ccec3ac25c70a5c6cc49                                       0.435521   \n614223383ac25c70a5c6cae5                                       0.416126   \n614216e64e27a1844a5f05e8                                       1.802922   \n614227adbaaf234b3529063e                                       0.361254   \n6142029e9cbada84a8676c05                                       1.041001   \n...                                                                 ...   \n6141f85a3ac25c70a5c6ca29                                       1.102080   \n6141f6e031cf3ef3d4a9f192                                       1.122475   \n6141d31aee0a3fd43fb47b37                                       0.420513   \n6141e6123ac25c70a5c6c9af                                       1.146577   \n6141eb4e4e27a1844a5f03e0                                       1.108733   \n\n                          mp_gappbe_alignnn_pred_eval_defects  \nid                                                             \n6142ccec3ac25c70a5c6cc49                             0.433108  \n614223383ac25c70a5c6cae5                             0.416725  \n614216e64e27a1844a5f05e8                             1.800529  \n614227adbaaf234b3529063e                             0.354887  \n6142029e9cbada84a8676c05                             1.032445  \n...                                                       ...  \n6141f85a3ac25c70a5c6ca29                             1.099873  \n6141f6e031cf3ef3d4a9f192                             1.119395  \n6141d31aee0a3fd43fb47b37                             0.405731  \n6141e6123ac25c70a5c6c9af                             1.144940  \n6141eb4e4e27a1844a5f03e0                             1.109100  \n\n[2967 rows x 8 columns]",
      "text/html": "<div>\n<style scoped>\n    .dataframe tbody tr th:only-of-type {\n        vertical-align: middle;\n    }\n\n    .dataframe tbody tr th {\n        vertical-align: top;\n    }\n\n    .dataframe thead th {\n        text-align: right;\n    }\n</style>\n<table border=\"1\" class=\"dataframe\">\n  <thead>\n    <tr style=\"text-align: right;\">\n      <th></th>\n      <th>jv_mbj_bandgap_alignn_pred_eval_no_defects</th>\n      <th>qm9_gap_alignn_pred_eval_defects</th>\n      <th>jv_optb88vdw_bandgap_alignn_pred_eval_no_defects</th>\n      <th>jv_mbj_bandgap_alignn_pred_eval_defects</th>\n      <th>mp_gappbe_alignnn_pred_eval_no_defects</th>\n      <th>qm9_gap_alignn_pred_eval_no_defects</th>\n      <th>jv_optb88vdw_bandgap_alignn_pred_eval_defects</th>\n      <th>mp_gappbe_alignnn_pred_eval_defects</th>\n    </tr>\n    <tr>\n      <th>id</th>\n      <th></th>\n      <th></th>\n      <th></th>\n      <th></th>\n      <th></th>\n      <th></th>\n      <th></th>\n      <th></th>\n    </tr>\n  </thead>\n  <tbody>\n    <tr>\n      <th>6142ccec3ac25c70a5c6cc49</th>\n      <td>0.262799</td>\n      <td>0.444113</td>\n      <td>0.763006</td>\n      <td>0.434816</td>\n      <td>0.924519</td>\n      <td>0.483283</td>\n      <td>0.435521</td>\n      <td>0.433108</td>\n    </tr>\n    <tr>\n      <th>614223383ac25c70a5c6cae5</th>\n      <td>1.431303</td>\n      <td>0.442768</td>\n      <td>0.857479</td>\n      <td>0.418861</td>\n      <td>1.464635</td>\n      <td>1.059446</td>\n      <td>0.416126</td>\n      <td>0.416725</td>\n    </tr>\n    <tr>\n      <th>614216e64e27a1844a5f05e8</th>\n      <td>1.435301</td>\n      <td>1.790991</td>\n      <td>0.856193</td>\n      <td>1.805609</td>\n      <td>1.446025</td>\n      <td>1.067361</td>\n      <td>1.802922</td>\n      <td>1.800529</td>\n    </tr>\n    <tr>\n      <th>614227adbaaf234b3529063e</th>\n      <td>1.433769</td>\n      <td>0.373822</td>\n      <td>0.857489</td>\n      <td>0.353646</td>\n      <td>1.445164</td>\n      <td>1.065922</td>\n      <td>0.361254</td>\n      <td>0.354887</td>\n    </tr>\n    <tr>\n      <th>6142029e9cbada84a8676c05</th>\n      <td>0.534306</td>\n      <td>1.054793</td>\n      <td>0.189708</td>\n      <td>1.043751</td>\n      <td>0.520049</td>\n      <td>0.540113</td>\n      <td>1.041001</td>\n      <td>1.032445</td>\n    </tr>\n    <tr>\n      <th>...</th>\n      <td>...</td>\n      <td>...</td>\n      <td>...</td>\n      <td>...</td>\n      <td>...</td>\n      <td>...</td>\n      <td>...</td>\n      <td>...</td>\n    </tr>\n    <tr>\n      <th>6141f85a3ac25c70a5c6ca29</th>\n      <td>0.705369</td>\n      <td>1.094726</td>\n      <td>0.196675</td>\n      <td>1.099764</td>\n      <td>0.543501</td>\n      <td>0.790392</td>\n      <td>1.102080</td>\n      <td>1.099873</td>\n    </tr>\n    <tr>\n      <th>6141f6e031cf3ef3d4a9f192</th>\n      <td>0.840223</td>\n      <td>1.117547</td>\n      <td>0.184139</td>\n      <td>1.122899</td>\n      <td>0.598665</td>\n      <td>1.260561</td>\n      <td>1.122475</td>\n      <td>1.119395</td>\n    </tr>\n    <tr>\n      <th>6141d31aee0a3fd43fb47b37</th>\n      <td>0.827007</td>\n      <td>0.418321</td>\n      <td>0.450370</td>\n      <td>0.415550</td>\n      <td>0.771309</td>\n      <td>1.243631</td>\n      <td>0.420513</td>\n      <td>0.405731</td>\n    </tr>\n    <tr>\n      <th>6141e6123ac25c70a5c6c9af</th>\n      <td>0.725547</td>\n      <td>1.143756</td>\n      <td>0.224668</td>\n      <td>1.142387</td>\n      <td>0.627932</td>\n      <td>0.508822</td>\n      <td>1.146577</td>\n      <td>1.144940</td>\n    </tr>\n    <tr>\n      <th>6141eb4e4e27a1844a5f03e0</th>\n      <td>0.482683</td>\n      <td>1.099969</td>\n      <td>0.219287</td>\n      <td>1.107058</td>\n      <td>0.652021</td>\n      <td>0.604356</td>\n      <td>1.108733</td>\n      <td>1.109100</td>\n    </tr>\n  </tbody>\n</table>\n<p>2967 rows × 8 columns</p>\n</div>"
     },
     "execution_count": 57,
     "metadata": {},
     "output_type": "execute_result"
    }
   ],
   "source": [
    "preds_eval = reduce(lambda a, x: a.merge(x, left_index=True, right_index=True), preds_eval)\n",
    "preds_eval"
   ],
   "metadata": {
    "collapsed": false,
    "pycharm": {
     "name": "#%%\n"
    }
   }
  },
  {
   "cell_type": "code",
   "execution_count": 67,
   "outputs": [],
   "source": [
    "eval_megnet_preds = pd.read_csv('../predictions/eval/megnet/defects/predistions.csv').rename({'predictions': 'megnet_defects'}, axis=1)"
   ],
   "metadata": {
    "collapsed": false,
    "pycharm": {
     "name": "#%%\n"
    }
   }
  },
  {
   "cell_type": "code",
   "execution_count": 69,
   "outputs": [],
   "source": [
    "preds_eval = preds_eval.merge(eval_megnet_preds, on='id')"
   ],
   "metadata": {
    "collapsed": false,
    "pycharm": {
     "name": "#%%\n"
    }
   }
  },
  {
   "cell_type": "code",
   "execution_count": 79,
   "outputs": [
    {
     "ename": "FileNotFoundError",
     "evalue": "[Errno 2] No such file or directory: '../predictions/train/megnet/predictions.csv'",
     "output_type": "error",
     "traceback": [
      "\u001B[0;31m---------------------------------------------------------------------------\u001B[0m",
      "\u001B[0;31mFileNotFoundError\u001B[0m                         Traceback (most recent call last)",
      "Input \u001B[0;32mIn [79]\u001B[0m, in \u001B[0;36m<module>\u001B[0;34m\u001B[0m\n\u001B[0;32m----> 1\u001B[0m train_megnet_preds \u001B[38;5;241m=\u001B[39m \u001B[43mpd\u001B[49m\u001B[38;5;241;43m.\u001B[39;49m\u001B[43mread_csv\u001B[49m\u001B[43m(\u001B[49m\u001B[38;5;124;43m'\u001B[39;49m\u001B[38;5;124;43m../predictions/train/megnet/predictions.csv\u001B[39;49m\u001B[38;5;124;43m'\u001B[39;49m\u001B[43m)\u001B[49m\u001B[38;5;241m.\u001B[39mrename({\u001B[38;5;124m'\u001B[39m\u001B[38;5;124mpredictions\u001B[39m\u001B[38;5;124m'\u001B[39m: \u001B[38;5;124m'\u001B[39m\u001B[38;5;124mmegnet_defects\u001B[39m\u001B[38;5;124m'\u001B[39m}, axis\u001B[38;5;241m=\u001B[39m\u001B[38;5;241m1\u001B[39m)\n",
      "File \u001B[0;32m~/Documents/idao_22/.venv/lib/python3.9/site-packages/pandas/util/_decorators.py:311\u001B[0m, in \u001B[0;36mdeprecate_nonkeyword_arguments.<locals>.decorate.<locals>.wrapper\u001B[0;34m(*args, **kwargs)\u001B[0m\n\u001B[1;32m    305\u001B[0m \u001B[38;5;28;01mif\u001B[39;00m \u001B[38;5;28mlen\u001B[39m(args) \u001B[38;5;241m>\u001B[39m num_allow_args:\n\u001B[1;32m    306\u001B[0m     warnings\u001B[38;5;241m.\u001B[39mwarn(\n\u001B[1;32m    307\u001B[0m         msg\u001B[38;5;241m.\u001B[39mformat(arguments\u001B[38;5;241m=\u001B[39marguments),\n\u001B[1;32m    308\u001B[0m         \u001B[38;5;167;01mFutureWarning\u001B[39;00m,\n\u001B[1;32m    309\u001B[0m         stacklevel\u001B[38;5;241m=\u001B[39mstacklevel,\n\u001B[1;32m    310\u001B[0m     )\n\u001B[0;32m--> 311\u001B[0m \u001B[38;5;28;01mreturn\u001B[39;00m \u001B[43mfunc\u001B[49m\u001B[43m(\u001B[49m\u001B[38;5;241;43m*\u001B[39;49m\u001B[43margs\u001B[49m\u001B[43m,\u001B[49m\u001B[43m \u001B[49m\u001B[38;5;241;43m*\u001B[39;49m\u001B[38;5;241;43m*\u001B[39;49m\u001B[43mkwargs\u001B[49m\u001B[43m)\u001B[49m\n",
      "File \u001B[0;32m~/Documents/idao_22/.venv/lib/python3.9/site-packages/pandas/io/parsers/readers.py:680\u001B[0m, in \u001B[0;36mread_csv\u001B[0;34m(filepath_or_buffer, sep, delimiter, header, names, index_col, usecols, squeeze, prefix, mangle_dupe_cols, dtype, engine, converters, true_values, false_values, skipinitialspace, skiprows, skipfooter, nrows, na_values, keep_default_na, na_filter, verbose, skip_blank_lines, parse_dates, infer_datetime_format, keep_date_col, date_parser, dayfirst, cache_dates, iterator, chunksize, compression, thousands, decimal, lineterminator, quotechar, quoting, doublequote, escapechar, comment, encoding, encoding_errors, dialect, error_bad_lines, warn_bad_lines, on_bad_lines, delim_whitespace, low_memory, memory_map, float_precision, storage_options)\u001B[0m\n\u001B[1;32m    665\u001B[0m kwds_defaults \u001B[38;5;241m=\u001B[39m _refine_defaults_read(\n\u001B[1;32m    666\u001B[0m     dialect,\n\u001B[1;32m    667\u001B[0m     delimiter,\n\u001B[0;32m   (...)\u001B[0m\n\u001B[1;32m    676\u001B[0m     defaults\u001B[38;5;241m=\u001B[39m{\u001B[38;5;124m\"\u001B[39m\u001B[38;5;124mdelimiter\u001B[39m\u001B[38;5;124m\"\u001B[39m: \u001B[38;5;124m\"\u001B[39m\u001B[38;5;124m,\u001B[39m\u001B[38;5;124m\"\u001B[39m},\n\u001B[1;32m    677\u001B[0m )\n\u001B[1;32m    678\u001B[0m kwds\u001B[38;5;241m.\u001B[39mupdate(kwds_defaults)\n\u001B[0;32m--> 680\u001B[0m \u001B[38;5;28;01mreturn\u001B[39;00m \u001B[43m_read\u001B[49m\u001B[43m(\u001B[49m\u001B[43mfilepath_or_buffer\u001B[49m\u001B[43m,\u001B[49m\u001B[43m \u001B[49m\u001B[43mkwds\u001B[49m\u001B[43m)\u001B[49m\n",
      "File \u001B[0;32m~/Documents/idao_22/.venv/lib/python3.9/site-packages/pandas/io/parsers/readers.py:575\u001B[0m, in \u001B[0;36m_read\u001B[0;34m(filepath_or_buffer, kwds)\u001B[0m\n\u001B[1;32m    572\u001B[0m _validate_names(kwds\u001B[38;5;241m.\u001B[39mget(\u001B[38;5;124m\"\u001B[39m\u001B[38;5;124mnames\u001B[39m\u001B[38;5;124m\"\u001B[39m, \u001B[38;5;28;01mNone\u001B[39;00m))\n\u001B[1;32m    574\u001B[0m \u001B[38;5;66;03m# Create the parser.\u001B[39;00m\n\u001B[0;32m--> 575\u001B[0m parser \u001B[38;5;241m=\u001B[39m \u001B[43mTextFileReader\u001B[49m\u001B[43m(\u001B[49m\u001B[43mfilepath_or_buffer\u001B[49m\u001B[43m,\u001B[49m\u001B[43m \u001B[49m\u001B[38;5;241;43m*\u001B[39;49m\u001B[38;5;241;43m*\u001B[39;49m\u001B[43mkwds\u001B[49m\u001B[43m)\u001B[49m\n\u001B[1;32m    577\u001B[0m \u001B[38;5;28;01mif\u001B[39;00m chunksize \u001B[38;5;129;01mor\u001B[39;00m iterator:\n\u001B[1;32m    578\u001B[0m     \u001B[38;5;28;01mreturn\u001B[39;00m parser\n",
      "File \u001B[0;32m~/Documents/idao_22/.venv/lib/python3.9/site-packages/pandas/io/parsers/readers.py:933\u001B[0m, in \u001B[0;36mTextFileReader.__init__\u001B[0;34m(self, f, engine, **kwds)\u001B[0m\n\u001B[1;32m    930\u001B[0m     \u001B[38;5;28mself\u001B[39m\u001B[38;5;241m.\u001B[39moptions[\u001B[38;5;124m\"\u001B[39m\u001B[38;5;124mhas_index_names\u001B[39m\u001B[38;5;124m\"\u001B[39m] \u001B[38;5;241m=\u001B[39m kwds[\u001B[38;5;124m\"\u001B[39m\u001B[38;5;124mhas_index_names\u001B[39m\u001B[38;5;124m\"\u001B[39m]\n\u001B[1;32m    932\u001B[0m \u001B[38;5;28mself\u001B[39m\u001B[38;5;241m.\u001B[39mhandles: IOHandles \u001B[38;5;241m|\u001B[39m \u001B[38;5;28;01mNone\u001B[39;00m \u001B[38;5;241m=\u001B[39m \u001B[38;5;28;01mNone\u001B[39;00m\n\u001B[0;32m--> 933\u001B[0m \u001B[38;5;28mself\u001B[39m\u001B[38;5;241m.\u001B[39m_engine \u001B[38;5;241m=\u001B[39m \u001B[38;5;28;43mself\u001B[39;49m\u001B[38;5;241;43m.\u001B[39;49m\u001B[43m_make_engine\u001B[49m\u001B[43m(\u001B[49m\u001B[43mf\u001B[49m\u001B[43m,\u001B[49m\u001B[43m \u001B[49m\u001B[38;5;28;43mself\u001B[39;49m\u001B[38;5;241;43m.\u001B[39;49m\u001B[43mengine\u001B[49m\u001B[43m)\u001B[49m\n",
      "File \u001B[0;32m~/Documents/idao_22/.venv/lib/python3.9/site-packages/pandas/io/parsers/readers.py:1217\u001B[0m, in \u001B[0;36mTextFileReader._make_engine\u001B[0;34m(self, f, engine)\u001B[0m\n\u001B[1;32m   1213\u001B[0m     mode \u001B[38;5;241m=\u001B[39m \u001B[38;5;124m\"\u001B[39m\u001B[38;5;124mrb\u001B[39m\u001B[38;5;124m\"\u001B[39m\n\u001B[1;32m   1214\u001B[0m \u001B[38;5;66;03m# error: No overload variant of \"get_handle\" matches argument types\u001B[39;00m\n\u001B[1;32m   1215\u001B[0m \u001B[38;5;66;03m# \"Union[str, PathLike[str], ReadCsvBuffer[bytes], ReadCsvBuffer[str]]\"\u001B[39;00m\n\u001B[1;32m   1216\u001B[0m \u001B[38;5;66;03m# , \"str\", \"bool\", \"Any\", \"Any\", \"Any\", \"Any\", \"Any\"\u001B[39;00m\n\u001B[0;32m-> 1217\u001B[0m \u001B[38;5;28mself\u001B[39m\u001B[38;5;241m.\u001B[39mhandles \u001B[38;5;241m=\u001B[39m \u001B[43mget_handle\u001B[49m\u001B[43m(\u001B[49m\u001B[43m  \u001B[49m\u001B[38;5;66;43;03m# type: ignore[call-overload]\u001B[39;49;00m\n\u001B[1;32m   1218\u001B[0m \u001B[43m    \u001B[49m\u001B[43mf\u001B[49m\u001B[43m,\u001B[49m\n\u001B[1;32m   1219\u001B[0m \u001B[43m    \u001B[49m\u001B[43mmode\u001B[49m\u001B[43m,\u001B[49m\n\u001B[1;32m   1220\u001B[0m \u001B[43m    \u001B[49m\u001B[43mencoding\u001B[49m\u001B[38;5;241;43m=\u001B[39;49m\u001B[38;5;28;43mself\u001B[39;49m\u001B[38;5;241;43m.\u001B[39;49m\u001B[43moptions\u001B[49m\u001B[38;5;241;43m.\u001B[39;49m\u001B[43mget\u001B[49m\u001B[43m(\u001B[49m\u001B[38;5;124;43m\"\u001B[39;49m\u001B[38;5;124;43mencoding\u001B[39;49m\u001B[38;5;124;43m\"\u001B[39;49m\u001B[43m,\u001B[49m\u001B[43m \u001B[49m\u001B[38;5;28;43;01mNone\u001B[39;49;00m\u001B[43m)\u001B[49m\u001B[43m,\u001B[49m\n\u001B[1;32m   1221\u001B[0m \u001B[43m    \u001B[49m\u001B[43mcompression\u001B[49m\u001B[38;5;241;43m=\u001B[39;49m\u001B[38;5;28;43mself\u001B[39;49m\u001B[38;5;241;43m.\u001B[39;49m\u001B[43moptions\u001B[49m\u001B[38;5;241;43m.\u001B[39;49m\u001B[43mget\u001B[49m\u001B[43m(\u001B[49m\u001B[38;5;124;43m\"\u001B[39;49m\u001B[38;5;124;43mcompression\u001B[39;49m\u001B[38;5;124;43m\"\u001B[39;49m\u001B[43m,\u001B[49m\u001B[43m \u001B[49m\u001B[38;5;28;43;01mNone\u001B[39;49;00m\u001B[43m)\u001B[49m\u001B[43m,\u001B[49m\n\u001B[1;32m   1222\u001B[0m \u001B[43m    \u001B[49m\u001B[43mmemory_map\u001B[49m\u001B[38;5;241;43m=\u001B[39;49m\u001B[38;5;28;43mself\u001B[39;49m\u001B[38;5;241;43m.\u001B[39;49m\u001B[43moptions\u001B[49m\u001B[38;5;241;43m.\u001B[39;49m\u001B[43mget\u001B[49m\u001B[43m(\u001B[49m\u001B[38;5;124;43m\"\u001B[39;49m\u001B[38;5;124;43mmemory_map\u001B[39;49m\u001B[38;5;124;43m\"\u001B[39;49m\u001B[43m,\u001B[49m\u001B[43m \u001B[49m\u001B[38;5;28;43;01mFalse\u001B[39;49;00m\u001B[43m)\u001B[49m\u001B[43m,\u001B[49m\n\u001B[1;32m   1223\u001B[0m \u001B[43m    \u001B[49m\u001B[43mis_text\u001B[49m\u001B[38;5;241;43m=\u001B[39;49m\u001B[43mis_text\u001B[49m\u001B[43m,\u001B[49m\n\u001B[1;32m   1224\u001B[0m \u001B[43m    \u001B[49m\u001B[43merrors\u001B[49m\u001B[38;5;241;43m=\u001B[39;49m\u001B[38;5;28;43mself\u001B[39;49m\u001B[38;5;241;43m.\u001B[39;49m\u001B[43moptions\u001B[49m\u001B[38;5;241;43m.\u001B[39;49m\u001B[43mget\u001B[49m\u001B[43m(\u001B[49m\u001B[38;5;124;43m\"\u001B[39;49m\u001B[38;5;124;43mencoding_errors\u001B[39;49m\u001B[38;5;124;43m\"\u001B[39;49m\u001B[43m,\u001B[49m\u001B[43m \u001B[49m\u001B[38;5;124;43m\"\u001B[39;49m\u001B[38;5;124;43mstrict\u001B[39;49m\u001B[38;5;124;43m\"\u001B[39;49m\u001B[43m)\u001B[49m\u001B[43m,\u001B[49m\n\u001B[1;32m   1225\u001B[0m \u001B[43m    \u001B[49m\u001B[43mstorage_options\u001B[49m\u001B[38;5;241;43m=\u001B[39;49m\u001B[38;5;28;43mself\u001B[39;49m\u001B[38;5;241;43m.\u001B[39;49m\u001B[43moptions\u001B[49m\u001B[38;5;241;43m.\u001B[39;49m\u001B[43mget\u001B[49m\u001B[43m(\u001B[49m\u001B[38;5;124;43m\"\u001B[39;49m\u001B[38;5;124;43mstorage_options\u001B[39;49m\u001B[38;5;124;43m\"\u001B[39;49m\u001B[43m,\u001B[49m\u001B[43m \u001B[49m\u001B[38;5;28;43;01mNone\u001B[39;49;00m\u001B[43m)\u001B[49m\u001B[43m,\u001B[49m\n\u001B[1;32m   1226\u001B[0m \u001B[43m\u001B[49m\u001B[43m)\u001B[49m\n\u001B[1;32m   1227\u001B[0m \u001B[38;5;28;01massert\u001B[39;00m \u001B[38;5;28mself\u001B[39m\u001B[38;5;241m.\u001B[39mhandles \u001B[38;5;129;01mis\u001B[39;00m \u001B[38;5;129;01mnot\u001B[39;00m \u001B[38;5;28;01mNone\u001B[39;00m\n\u001B[1;32m   1228\u001B[0m f \u001B[38;5;241m=\u001B[39m \u001B[38;5;28mself\u001B[39m\u001B[38;5;241m.\u001B[39mhandles\u001B[38;5;241m.\u001B[39mhandle\n",
      "File \u001B[0;32m~/Documents/idao_22/.venv/lib/python3.9/site-packages/pandas/io/common.py:789\u001B[0m, in \u001B[0;36mget_handle\u001B[0;34m(path_or_buf, mode, encoding, compression, memory_map, is_text, errors, storage_options)\u001B[0m\n\u001B[1;32m    784\u001B[0m \u001B[38;5;28;01melif\u001B[39;00m \u001B[38;5;28misinstance\u001B[39m(handle, \u001B[38;5;28mstr\u001B[39m):\n\u001B[1;32m    785\u001B[0m     \u001B[38;5;66;03m# Check whether the filename is to be opened in binary mode.\u001B[39;00m\n\u001B[1;32m    786\u001B[0m     \u001B[38;5;66;03m# Binary mode does not support 'encoding' and 'newline'.\u001B[39;00m\n\u001B[1;32m    787\u001B[0m     \u001B[38;5;28;01mif\u001B[39;00m ioargs\u001B[38;5;241m.\u001B[39mencoding \u001B[38;5;129;01mand\u001B[39;00m \u001B[38;5;124m\"\u001B[39m\u001B[38;5;124mb\u001B[39m\u001B[38;5;124m\"\u001B[39m \u001B[38;5;129;01mnot\u001B[39;00m \u001B[38;5;129;01min\u001B[39;00m ioargs\u001B[38;5;241m.\u001B[39mmode:\n\u001B[1;32m    788\u001B[0m         \u001B[38;5;66;03m# Encoding\u001B[39;00m\n\u001B[0;32m--> 789\u001B[0m         handle \u001B[38;5;241m=\u001B[39m \u001B[38;5;28;43mopen\u001B[39;49m\u001B[43m(\u001B[49m\n\u001B[1;32m    790\u001B[0m \u001B[43m            \u001B[49m\u001B[43mhandle\u001B[49m\u001B[43m,\u001B[49m\n\u001B[1;32m    791\u001B[0m \u001B[43m            \u001B[49m\u001B[43mioargs\u001B[49m\u001B[38;5;241;43m.\u001B[39;49m\u001B[43mmode\u001B[49m\u001B[43m,\u001B[49m\n\u001B[1;32m    792\u001B[0m \u001B[43m            \u001B[49m\u001B[43mencoding\u001B[49m\u001B[38;5;241;43m=\u001B[39;49m\u001B[43mioargs\u001B[49m\u001B[38;5;241;43m.\u001B[39;49m\u001B[43mencoding\u001B[49m\u001B[43m,\u001B[49m\n\u001B[1;32m    793\u001B[0m \u001B[43m            \u001B[49m\u001B[43merrors\u001B[49m\u001B[38;5;241;43m=\u001B[39;49m\u001B[43merrors\u001B[49m\u001B[43m,\u001B[49m\n\u001B[1;32m    794\u001B[0m \u001B[43m            \u001B[49m\u001B[43mnewline\u001B[49m\u001B[38;5;241;43m=\u001B[39;49m\u001B[38;5;124;43m\"\u001B[39;49m\u001B[38;5;124;43m\"\u001B[39;49m\u001B[43m,\u001B[49m\n\u001B[1;32m    795\u001B[0m \u001B[43m        \u001B[49m\u001B[43m)\u001B[49m\n\u001B[1;32m    796\u001B[0m     \u001B[38;5;28;01melse\u001B[39;00m:\n\u001B[1;32m    797\u001B[0m         \u001B[38;5;66;03m# Binary mode\u001B[39;00m\n\u001B[1;32m    798\u001B[0m         handle \u001B[38;5;241m=\u001B[39m \u001B[38;5;28mopen\u001B[39m(handle, ioargs\u001B[38;5;241m.\u001B[39mmode)\n",
      "\u001B[0;31mFileNotFoundError\u001B[0m: [Errno 2] No such file or directory: '../predictions/train/megnet/predictions.csv'"
     ]
    }
   ],
   "source": [
    "train_megnet_preds = pd.read_csv('../predictions/train/megnet/predictions.csv').rename({'predictions': 'megnet_defects'}, axis=1)"
   ],
   "metadata": {
    "collapsed": false,
    "pycharm": {
     "name": "#%%\n"
    }
   }
  },
  {
   "cell_type": "code",
   "execution_count": 82,
   "outputs": [],
   "source": [
    "train_megnet_preds = train_megnet_preds.rename({'predictions': 'megnet_defects'}, axis=1)"
   ],
   "metadata": {
    "collapsed": false,
    "pycharm": {
     "name": "#%%\n"
    }
   }
  },
  {
   "cell_type": "code",
   "execution_count": 83,
   "outputs": [],
   "source": [
    "preds_train = preds_train.merge(train_megnet_preds, on='id')"
   ],
   "metadata": {
    "collapsed": false,
    "pycharm": {
     "name": "#%%\n"
    }
   }
  },
  {
   "cell_type": "code",
   "execution_count": 71,
   "outputs": [
    {
     "data": {
      "text/plain": "                            id  jv_mbj_bandgap_alignn_pred_eval_no_defects  \\\n0     6142ccec3ac25c70a5c6cc49                                    0.262799   \n1     614223383ac25c70a5c6cae5                                    1.431303   \n2     614216e64e27a1844a5f05e8                                    1.435301   \n3     614227adbaaf234b3529063e                                    1.433769   \n4     6142029e9cbada84a8676c05                                    0.534306   \n...                        ...                                         ...   \n2962  6141f85a3ac25c70a5c6ca29                                    0.705369   \n2963  6141f6e031cf3ef3d4a9f192                                    0.840223   \n2964  6141d31aee0a3fd43fb47b37                                    0.827007   \n2965  6141e6123ac25c70a5c6c9af                                    0.725547   \n2966  6141eb4e4e27a1844a5f03e0                                    0.482683   \n\n      qm9_gap_alignn_pred_eval_defects  \\\n0                             0.444113   \n1                             0.442768   \n2                             1.790991   \n3                             0.373822   \n4                             1.054793   \n...                                ...   \n2962                          1.094726   \n2963                          1.117547   \n2964                          0.418321   \n2965                          1.143756   \n2966                          1.099969   \n\n      jv_optb88vdw_bandgap_alignn_pred_eval_no_defects  \\\n0                                             0.763006   \n1                                             0.857479   \n2                                             0.856193   \n3                                             0.857489   \n4                                             0.189708   \n...                                                ...   \n2962                                          0.196675   \n2963                                          0.184139   \n2964                                          0.450370   \n2965                                          0.224668   \n2966                                          0.219287   \n\n      jv_mbj_bandgap_alignn_pred_eval_defects  \\\n0                                    0.434816   \n1                                    0.418861   \n2                                    1.805609   \n3                                    0.353646   \n4                                    1.043751   \n...                                       ...   \n2962                                 1.099764   \n2963                                 1.122899   \n2964                                 0.415550   \n2965                                 1.142387   \n2966                                 1.107058   \n\n      mp_gappbe_alignnn_pred_eval_no_defects  \\\n0                                   0.924519   \n1                                   1.464635   \n2                                   1.446025   \n3                                   1.445164   \n4                                   0.520049   \n...                                      ...   \n2962                                0.543501   \n2963                                0.598665   \n2964                                0.771309   \n2965                                0.627932   \n2966                                0.652021   \n\n      qm9_gap_alignn_pred_eval_no_defects  \\\n0                                0.483283   \n1                                1.059446   \n2                                1.067361   \n3                                1.065922   \n4                                0.540113   \n...                                   ...   \n2962                             0.790392   \n2963                             1.260561   \n2964                             1.243631   \n2965                             0.508822   \n2966                             0.604356   \n\n      jv_optb88vdw_bandgap_alignn_pred_eval_defects  \\\n0                                          0.435521   \n1                                          0.416126   \n2                                          1.802922   \n3                                          0.361254   \n4                                          1.041001   \n...                                             ...   \n2962                                       1.102080   \n2963                                       1.122475   \n2964                                       0.420513   \n2965                                       1.146577   \n2966                                       1.108733   \n\n      mp_gappbe_alignnn_pred_eval_defects  megnet_defects  \n0                                0.433108        0.349014  \n1                                0.416725        0.366542  \n2                                1.800529        1.132792  \n3                                0.354887        1.112140  \n4                                1.032445        1.813595  \n...                                   ...             ...  \n2962                             1.099873        0.282000  \n2963                             1.119395        0.355681  \n2964                             0.405731        0.361315  \n2965                             1.144940        0.316829  \n2966                             1.109100        1.180252  \n\n[2967 rows x 10 columns]",
      "text/html": "<div>\n<style scoped>\n    .dataframe tbody tr th:only-of-type {\n        vertical-align: middle;\n    }\n\n    .dataframe tbody tr th {\n        vertical-align: top;\n    }\n\n    .dataframe thead th {\n        text-align: right;\n    }\n</style>\n<table border=\"1\" class=\"dataframe\">\n  <thead>\n    <tr style=\"text-align: right;\">\n      <th></th>\n      <th>id</th>\n      <th>jv_mbj_bandgap_alignn_pred_eval_no_defects</th>\n      <th>qm9_gap_alignn_pred_eval_defects</th>\n      <th>jv_optb88vdw_bandgap_alignn_pred_eval_no_defects</th>\n      <th>jv_mbj_bandgap_alignn_pred_eval_defects</th>\n      <th>mp_gappbe_alignnn_pred_eval_no_defects</th>\n      <th>qm9_gap_alignn_pred_eval_no_defects</th>\n      <th>jv_optb88vdw_bandgap_alignn_pred_eval_defects</th>\n      <th>mp_gappbe_alignnn_pred_eval_defects</th>\n      <th>megnet_defects</th>\n    </tr>\n  </thead>\n  <tbody>\n    <tr>\n      <th>0</th>\n      <td>6142ccec3ac25c70a5c6cc49</td>\n      <td>0.262799</td>\n      <td>0.444113</td>\n      <td>0.763006</td>\n      <td>0.434816</td>\n      <td>0.924519</td>\n      <td>0.483283</td>\n      <td>0.435521</td>\n      <td>0.433108</td>\n      <td>0.349014</td>\n    </tr>\n    <tr>\n      <th>1</th>\n      <td>614223383ac25c70a5c6cae5</td>\n      <td>1.431303</td>\n      <td>0.442768</td>\n      <td>0.857479</td>\n      <td>0.418861</td>\n      <td>1.464635</td>\n      <td>1.059446</td>\n      <td>0.416126</td>\n      <td>0.416725</td>\n      <td>0.366542</td>\n    </tr>\n    <tr>\n      <th>2</th>\n      <td>614216e64e27a1844a5f05e8</td>\n      <td>1.435301</td>\n      <td>1.790991</td>\n      <td>0.856193</td>\n      <td>1.805609</td>\n      <td>1.446025</td>\n      <td>1.067361</td>\n      <td>1.802922</td>\n      <td>1.800529</td>\n      <td>1.132792</td>\n    </tr>\n    <tr>\n      <th>3</th>\n      <td>614227adbaaf234b3529063e</td>\n      <td>1.433769</td>\n      <td>0.373822</td>\n      <td>0.857489</td>\n      <td>0.353646</td>\n      <td>1.445164</td>\n      <td>1.065922</td>\n      <td>0.361254</td>\n      <td>0.354887</td>\n      <td>1.112140</td>\n    </tr>\n    <tr>\n      <th>4</th>\n      <td>6142029e9cbada84a8676c05</td>\n      <td>0.534306</td>\n      <td>1.054793</td>\n      <td>0.189708</td>\n      <td>1.043751</td>\n      <td>0.520049</td>\n      <td>0.540113</td>\n      <td>1.041001</td>\n      <td>1.032445</td>\n      <td>1.813595</td>\n    </tr>\n    <tr>\n      <th>...</th>\n      <td>...</td>\n      <td>...</td>\n      <td>...</td>\n      <td>...</td>\n      <td>...</td>\n      <td>...</td>\n      <td>...</td>\n      <td>...</td>\n      <td>...</td>\n      <td>...</td>\n    </tr>\n    <tr>\n      <th>2962</th>\n      <td>6141f85a3ac25c70a5c6ca29</td>\n      <td>0.705369</td>\n      <td>1.094726</td>\n      <td>0.196675</td>\n      <td>1.099764</td>\n      <td>0.543501</td>\n      <td>0.790392</td>\n      <td>1.102080</td>\n      <td>1.099873</td>\n      <td>0.282000</td>\n    </tr>\n    <tr>\n      <th>2963</th>\n      <td>6141f6e031cf3ef3d4a9f192</td>\n      <td>0.840223</td>\n      <td>1.117547</td>\n      <td>0.184139</td>\n      <td>1.122899</td>\n      <td>0.598665</td>\n      <td>1.260561</td>\n      <td>1.122475</td>\n      <td>1.119395</td>\n      <td>0.355681</td>\n    </tr>\n    <tr>\n      <th>2964</th>\n      <td>6141d31aee0a3fd43fb47b37</td>\n      <td>0.827007</td>\n      <td>0.418321</td>\n      <td>0.450370</td>\n      <td>0.415550</td>\n      <td>0.771309</td>\n      <td>1.243631</td>\n      <td>0.420513</td>\n      <td>0.405731</td>\n      <td>0.361315</td>\n    </tr>\n    <tr>\n      <th>2965</th>\n      <td>6141e6123ac25c70a5c6c9af</td>\n      <td>0.725547</td>\n      <td>1.143756</td>\n      <td>0.224668</td>\n      <td>1.142387</td>\n      <td>0.627932</td>\n      <td>0.508822</td>\n      <td>1.146577</td>\n      <td>1.144940</td>\n      <td>0.316829</td>\n    </tr>\n    <tr>\n      <th>2966</th>\n      <td>6141eb4e4e27a1844a5f03e0</td>\n      <td>0.482683</td>\n      <td>1.099969</td>\n      <td>0.219287</td>\n      <td>1.107058</td>\n      <td>0.652021</td>\n      <td>0.604356</td>\n      <td>1.108733</td>\n      <td>1.109100</td>\n      <td>1.180252</td>\n    </tr>\n  </tbody>\n</table>\n<p>2967 rows × 10 columns</p>\n</div>"
     },
     "execution_count": 71,
     "metadata": {},
     "output_type": "execute_result"
    }
   ],
   "source": [
    "preds_eval"
   ],
   "metadata": {
    "collapsed": false,
    "pycharm": {
     "name": "#%%\n"
    }
   }
  },
  {
   "cell_type": "code",
   "execution_count": 85,
   "outputs": [],
   "source": [
    "preds_train = preds_train.drop(['predictions_x', 'predictions_y'], axis=1)"
   ],
   "metadata": {
    "collapsed": false,
    "pycharm": {
     "name": "#%%\n"
    }
   }
  },
  {
   "cell_type": "code",
   "execution_count": 86,
   "outputs": [],
   "source": [
    "preds_train.to_csv('../predictions/train_predictions.csv', index=False)"
   ],
   "metadata": {
    "collapsed": false,
    "pycharm": {
     "name": "#%%\n"
    }
   }
  },
  {
   "cell_type": "code",
   "execution_count": 87,
   "outputs": [],
   "source": [
    "preds_eval.to_csv('../predictions/eval_predictions.csv', index=False)"
   ],
   "metadata": {
    "collapsed": false,
    "pycharm": {
     "name": "#%%\n"
    }
   }
  },
  {
   "cell_type": "code",
   "execution_count": null,
   "outputs": [],
   "source": [],
   "metadata": {
    "collapsed": false,
    "pycharm": {
     "name": "#%%\n"
    }
   }
  }
 ],
 "metadata": {
  "kernelspec": {
   "display_name": "Python 3 (ipykernel)",
   "language": "python",
   "name": "python3"
  },
  "language_info": {
   "codemirror_mode": {
    "name": "ipython",
    "version": 3
   },
   "file_extension": ".py",
   "mimetype": "text/x-python",
   "name": "python",
   "nbconvert_exporter": "python",
   "pygments_lexer": "ipython3",
   "version": "3.9.6"
  }
 },
 "nbformat": 4,
 "nbformat_minor": 4
}