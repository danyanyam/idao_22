{
 "cells": [
  {
   "cell_type": "code",
   "execution_count": 123,
   "metadata": {},
   "outputs": [],
   "source": [
    "preds = []\n",
    "for path in glob('../predictions/fine-fine-tuned/*.json'):\n",
    "    pred_col = path.split('/')[-1].split('_pred.json')[0]\n",
    "    prediction = pd.read_json(path)\n",
    "    prediction = prediction.set_index('id').rename({'pred': pred_col}, axis=1)\n",
    "    preds.append(prediction)"
   ]
  },
  {
   "cell_type": "code",
   "execution_count": 124,
   "metadata": {},
   "outputs": [
    {
     "data": {
      "text/html": [
       "<div>\n",
       "<style scoped>\n",
       "    .dataframe tbody tr th:only-of-type {\n",
       "        vertical-align: middle;\n",
       "    }\n",
       "\n",
       "    .dataframe tbody tr th {\n",
       "        vertical-align: top;\n",
       "    }\n",
       "\n",
       "    .dataframe thead th {\n",
       "        text-align: right;\n",
       "    }\n",
       "</style>\n",
       "<table border=\"1\" class=\"dataframe\">\n",
       "  <thead>\n",
       "    <tr style=\"text-align: right;\">\n",
       "      <th></th>\n",
       "      <th>jv_optb88vdw_bandgap_alignn</th>\n",
       "      <th>qm9_gap_alignn</th>\n",
       "      <th>mp_gappbe_alignnn</th>\n",
       "      <th>jv_mbj_bandgap_alignn</th>\n",
       "    </tr>\n",
       "    <tr>\n",
       "      <th>id</th>\n",
       "      <th></th>\n",
       "      <th></th>\n",
       "      <th></th>\n",
       "      <th></th>\n",
       "    </tr>\n",
       "  </thead>\n",
       "  <tbody>\n",
       "    <tr>\n",
       "      <th>614205f93ac25c70a5c6ca6f</th>\n",
       "      <td>0.379666</td>\n",
       "      <td>0.382445</td>\n",
       "      <td>0.384427</td>\n",
       "      <td>0.394005</td>\n",
       "    </tr>\n",
       "    <tr>\n",
       "      <th>6141f58c9cbada84a8676b95</th>\n",
       "      <td>1.812719</td>\n",
       "      <td>1.806581</td>\n",
       "      <td>1.805327</td>\n",
       "      <td>1.814703</td>\n",
       "    </tr>\n",
       "    <tr>\n",
       "      <th>6141d3d2ee0a3fd43fb47b55</th>\n",
       "      <td>0.361607</td>\n",
       "      <td>0.358903</td>\n",
       "      <td>0.355783</td>\n",
       "      <td>0.358463</td>\n",
       "    </tr>\n",
       "    <tr>\n",
       "      <th>6142298d9cbada84a8676cb5</th>\n",
       "      <td>1.812738</td>\n",
       "      <td>1.806763</td>\n",
       "      <td>1.805809</td>\n",
       "      <td>1.811138</td>\n",
       "    </tr>\n",
       "    <tr>\n",
       "      <th>6141d43abaaf234b352902fc</th>\n",
       "      <td>1.111589</td>\n",
       "      <td>1.097027</td>\n",
       "      <td>1.106476</td>\n",
       "      <td>1.102430</td>\n",
       "    </tr>\n",
       "  </tbody>\n",
       "</table>\n",
       "</div>"
      ],
      "text/plain": [
       "                          jv_optb88vdw_bandgap_alignn  qm9_gap_alignn  \\\n",
       "id                                                                      \n",
       "614205f93ac25c70a5c6ca6f                     0.379666        0.382445   \n",
       "6141f58c9cbada84a8676b95                     1.812719        1.806581   \n",
       "6141d3d2ee0a3fd43fb47b55                     0.361607        0.358903   \n",
       "6142298d9cbada84a8676cb5                     1.812738        1.806763   \n",
       "6141d43abaaf234b352902fc                     1.111589        1.097027   \n",
       "\n",
       "                          mp_gappbe_alignnn  jv_mbj_bandgap_alignn  \n",
       "id                                                                  \n",
       "614205f93ac25c70a5c6ca6f           0.384427               0.394005  \n",
       "6141f58c9cbada84a8676b95           1.805327               1.814703  \n",
       "6141d3d2ee0a3fd43fb47b55           0.355783               0.358463  \n",
       "6142298d9cbada84a8676cb5           1.805809               1.811138  \n",
       "6141d43abaaf234b352902fc           1.106476               1.102430  "
      ]
     },
     "execution_count": 124,
     "metadata": {},
     "output_type": "execute_result"
    }
   ],
   "source": [
    "preds = pd.concat(preds, axis=1)\n",
    "preds.head()"
   ]
  },
  {
   "cell_type": "code",
   "execution_count": 58,
   "metadata": {},
   "outputs": [],
   "source": [
    "preds['predictions'] = preds[['qm9_gap_alignn', 'mp_gappbe_alignnn']].sum(axis=1) / 2"
   ]
  },
  {
   "cell_type": "code",
   "execution_count": 60,
   "metadata": {},
   "outputs": [],
   "source": [
    "preds['predictions'] = preds[['jv_optb88vdw_bandgap_alignn', 'jv_mbj_bandgap_alignn']].sum(axis=1) / 2"
   ]
  },
  {
   "cell_type": "code",
   "execution_count": 81,
   "metadata": {},
   "outputs": [],
   "source": [
    "preds['predictions'] = preds['jv_optb88vdw_bandgap_alignn'] * 0.5 + preds['jv_mbj_bandgap_alignn'] * 0.3 + preds['qm9_gap_alignn'] * 0.1 + preds['mp_gappbe_alignnn'] * 0.1"
   ]
  },
  {
   "cell_type": "code",
   "execution_count": 125,
   "metadata": {},
   "outputs": [],
   "source": [
    "preds['predictions'] = preds.sum(axis=1) / 4"
   ]
  },
  {
   "cell_type": "code",
   "execution_count": 126,
   "metadata": {},
   "outputs": [
    {
     "data": {
      "text/html": [
       "<div>\n",
       "<style scoped>\n",
       "    .dataframe tbody tr th:only-of-type {\n",
       "        vertical-align: middle;\n",
       "    }\n",
       "\n",
       "    .dataframe tbody tr th {\n",
       "        vertical-align: top;\n",
       "    }\n",
       "\n",
       "    .dataframe thead th {\n",
       "        text-align: right;\n",
       "    }\n",
       "</style>\n",
       "<table border=\"1\" class=\"dataframe\">\n",
       "  <thead>\n",
       "    <tr style=\"text-align: right;\">\n",
       "      <th></th>\n",
       "      <th>jv_optb88vdw_bandgap_alignn</th>\n",
       "      <th>qm9_gap_alignn</th>\n",
       "      <th>mp_gappbe_alignnn</th>\n",
       "      <th>jv_mbj_bandgap_alignn</th>\n",
       "      <th>predictions</th>\n",
       "    </tr>\n",
       "    <tr>\n",
       "      <th>id</th>\n",
       "      <th></th>\n",
       "      <th></th>\n",
       "      <th></th>\n",
       "      <th></th>\n",
       "      <th></th>\n",
       "    </tr>\n",
       "  </thead>\n",
       "  <tbody>\n",
       "    <tr>\n",
       "      <th>6142220431cf3ef3d4a9f342</th>\n",
       "      <td>0.295441</td>\n",
       "      <td>0.288097</td>\n",
       "      <td>0.295933</td>\n",
       "      <td>0.284986</td>\n",
       "      <td>0.291114</td>\n",
       "    </tr>\n",
       "    <tr>\n",
       "      <th>61441ffa4e27a1844a5f0aa6</th>\n",
       "      <td>1.148170</td>\n",
       "      <td>1.149275</td>\n",
       "      <td>1.151752</td>\n",
       "      <td>1.149663</td>\n",
       "      <td>1.149715</td>\n",
       "    </tr>\n",
       "    <tr>\n",
       "      <th>6141d4d43ac25c70a5c6c8f1</th>\n",
       "      <td>0.296535</td>\n",
       "      <td>0.299376</td>\n",
       "      <td>0.288853</td>\n",
       "      <td>0.293723</td>\n",
       "      <td>0.294622</td>\n",
       "    </tr>\n",
       "    <tr>\n",
       "      <th>6142d21f4e27a1844a5f0940</th>\n",
       "      <td>1.137758</td>\n",
       "      <td>1.140624</td>\n",
       "      <td>1.143104</td>\n",
       "      <td>1.138963</td>\n",
       "      <td>1.140112</td>\n",
       "    </tr>\n",
       "    <tr>\n",
       "      <th>61423ef64e27a1844a5f06fe</th>\n",
       "      <td>1.181756</td>\n",
       "      <td>1.180832</td>\n",
       "      <td>1.177315</td>\n",
       "      <td>1.180394</td>\n",
       "      <td>1.180074</td>\n",
       "    </tr>\n",
       "  </tbody>\n",
       "</table>\n",
       "</div>"
      ],
      "text/plain": [
       "                          jv_optb88vdw_bandgap_alignn  qm9_gap_alignn  \\\n",
       "id                                                                      \n",
       "6142220431cf3ef3d4a9f342                     0.295441        0.288097   \n",
       "61441ffa4e27a1844a5f0aa6                     1.148170        1.149275   \n",
       "6141d4d43ac25c70a5c6c8f1                     0.296535        0.299376   \n",
       "6142d21f4e27a1844a5f0940                     1.137758        1.140624   \n",
       "61423ef64e27a1844a5f06fe                     1.181756        1.180832   \n",
       "\n",
       "                          mp_gappbe_alignnn  jv_mbj_bandgap_alignn  \\\n",
       "id                                                                   \n",
       "6142220431cf3ef3d4a9f342           0.295933               0.284986   \n",
       "61441ffa4e27a1844a5f0aa6           1.151752               1.149663   \n",
       "6141d4d43ac25c70a5c6c8f1           0.288853               0.293723   \n",
       "6142d21f4e27a1844a5f0940           1.143104               1.138963   \n",
       "61423ef64e27a1844a5f06fe           1.177315               1.180394   \n",
       "\n",
       "                          predictions  \n",
       "id                                     \n",
       "6142220431cf3ef3d4a9f342     0.291114  \n",
       "61441ffa4e27a1844a5f0aa6     1.149715  \n",
       "6141d4d43ac25c70a5c6c8f1     0.294622  \n",
       "6142d21f4e27a1844a5f0940     1.140112  \n",
       "61423ef64e27a1844a5f06fe     1.180074  "
      ]
     },
     "execution_count": 126,
     "metadata": {},
     "output_type": "execute_result"
    }
   ],
   "source": [
    "preds.sample(5)"
   ]
  },
  {
   "cell_type": "code",
   "execution_count": 117,
   "metadata": {},
   "outputs": [],
   "source": [
    "preds['predictions'] = preds['mp_gappbe_alignnn']"
   ]
  },
  {
   "cell_type": "code",
   "execution_count": 127,
   "metadata": {},
   "outputs": [],
   "source": [
    "preds['predictions'].to_csv('../answer.csv')"
   ]
  },
  {
   "cell_type": "code",
   "execution_count": null,
   "metadata": {},
   "outputs": [],
   "source": []
  }
 ],
 "metadata": {
  "kernelspec": {
   "display_name": "Python 3 (ipykernel)",
   "language": "python",
   "name": "python3"
  },
  "language_info": {
   "codemirror_mode": {
    "name": "ipython",
    "version": 3
   },
   "file_extension": ".py",
   "mimetype": "text/x-python",
   "name": "python",
   "nbconvert_exporter": "python",
   "pygments_lexer": "ipython3",
   "version": "3.9.6"
  }
 },
 "nbformat": 4,
 "nbformat_minor": 4
}